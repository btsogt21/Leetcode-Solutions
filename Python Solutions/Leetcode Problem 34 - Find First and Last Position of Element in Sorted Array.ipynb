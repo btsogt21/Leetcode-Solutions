{
 "cells": [
  {
   "cell_type": "markdown",
   "id": "9a289557",
   "metadata": {},
   "source": [
    "## Description\n",
    "\n",
    "Given an array of integers nums sorted in non-decreasing order, find the starting and ending position of a given target value.\n",
    "\n",
    "If target is not found in the array, return [-1, -1].\n",
    "\n",
    "You must write an algorithm with O(log n) runtime complexity.\n",
    "\n",
    "\n",
    "## Example 1:\n",
    "\n",
    "Input: nums = [5,7,7,8,8,10], target = 8\n",
    "\n",
    "Output: [3,4]\n",
    "\n",
    "## Example 2:\n",
    "\n",
    "Input: nums = [5,7,7,8,8,10], target = 6\n",
    "\n",
    "Output: [-1,-1]\n",
    "\n",
    "## Example 3:\n",
    "\n",
    "Input: nums = [], target = 0\n",
    "\n",
    "Output: [-1,-1]\n",
    "\n",
    "## Constraints:\n",
    "\n",
    "0 <= nums.length <= 105\n",
    "\n",
    "-109 <= nums[i] <= 109\n",
    "\n",
    "nums is a non-decreasing array.\n",
    "\n",
    "-109 <= target <= 109"
   ]
  },
  {
   "cell_type": "code",
   "execution_count": 1,
   "id": "1271feca",
   "metadata": {},
   "outputs": [],
   "source": [
    "from __future__ import annotations #this was imported so that I could use built in types as generics. \n",
    "# Only >3.9 versions of python can use built in types as generics without this import."
   ]
  },
  {
   "cell_type": "code",
   "execution_count": null,
   "id": "7a5e6917",
   "metadata": {},
   "outputs": [],
   "source": [
    "# First accepted solution. WRitten without assistance. This solution wasn't particularly hard, just had to think about how to\n",
    "# to adapt binary search to the fact that I needed to find the bounds of where the target ended and began if I found a middle\n",
    "# value equivalent to the target. By adding an if clause to check if our left and right pointers are greater than or less than the\n",
    "# target respectively, and by utilizng r = m-1 and l = m+1 instead of r= m+1 and l = m-1, we are able to handle cases of \n",
    "# targets being within the bounds of the first left and right pointers but not actually existing in the input 'nums' array whilst\n",
    "# still allowing binary search to occur without error. \n",
    "\n",
    "# Worst case would be case where our first chosen middle value is == target and where there is only a single instance of the \n",
    "# target value in our input array. In this case, our while loop executes as many number\n",
    "# of times necessary for both the l and r pointers to reach the middle value, so probably roughly n/2 where n is size of input\n",
    "# 'nums' array. \n",
    "\n",
    "class Solution:\n",
    "    def searchRange(self, nums: List[int], target: int) -> List[int]:\n",
    "        l, r = 0, len(nums)-1\n",
    "        while l<=r:\n",
    "            m = (l+r)//2\n",
    "            if nums[l] > target or nums[r]<target:\n",
    "                return_list = [-1, -1]\n",
    "                return return_list\n",
    "            if nums[m] == target:\n",
    "                if nums[l] == target and nums[r] == target:\n",
    "                    return_list = [l, r]\n",
    "                    return return_list\n",
    "                if nums[l]!= target:\n",
    "                    l += 1\n",
    "                if nums[r]!= target:\n",
    "                    r -= 1\n",
    "            if nums[m]>target:\n",
    "                r = m-1\n",
    "            elif nums[m]<target:\n",
    "                l = m+1\n",
    "        return_list = [-1,-1]\n",
    "        return return_list"
   ]
  }
 ],
 "metadata": {
  "kernelspec": {
   "display_name": "Python 3 (ipykernel)",
   "language": "python",
   "name": "python3"
  },
  "language_info": {
   "codemirror_mode": {
    "name": "ipython",
    "version": 3
   },
   "file_extension": ".py",
   "mimetype": "text/x-python",
   "name": "python",
   "nbconvert_exporter": "python",
   "pygments_lexer": "ipython3",
   "version": "3.9.7"
  }
 },
 "nbformat": 4,
 "nbformat_minor": 5
}
