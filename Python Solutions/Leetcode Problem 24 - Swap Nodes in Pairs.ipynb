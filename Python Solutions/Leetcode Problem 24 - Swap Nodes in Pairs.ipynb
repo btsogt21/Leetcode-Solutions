{
 "cells": [
  {
   "attachments": {},
   "cell_type": "markdown",
   "id": "66387586",
   "metadata": {},
   "source": [
    "## Description\n",
    "\n",
    "Given a linked list, swap every two adjacent nodes and return its head. You must solve the problem without modifying the values\n",
    "\n",
    "in the list's nodes (i.e., only nodes themselves may be changed.)\n",
    "\n",
    "## Example 1:\n",
    "\n",
    "[swap_ex1.jpg](attachment:swap_ex1.jpg)\n",
    "\n",
    "Input: head = [1,2,3,4]\n",
    "\n",
    "Output: [2,1,4,3]\n",
    "\n",
    "## Example 2:\n",
    "\n",
    "Input: head = []\n",
    "\n",
    "Output: []\n",
    "\n",
    "## Example 3:\n",
    "\n",
    "Input: head = [1]\n",
    "\n",
    "Output: [1]\n",
    "    \n",
    "## Constraints:\n",
    "\n",
    "The number of nodes in the list is in the range [0, 100]\n",
    "\n",
    "0 <= Node.val <= 100"
   ]
  },
  {
   "cell_type": "code",
   "execution_count": 1,
   "id": "7cf2f41f",
   "metadata": {},
   "outputs": [],
   "source": [
    "from __future__ import annotations #this was imported so that I could use built in types as generics. \n",
    "# Only >3.9 versions of python can use built in types as generics without this import."
   ]
  },
  {
   "cell_type": "code",
   "execution_count": 2,
   "id": "697b7924",
   "metadata": {},
   "outputs": [],
   "source": [
    "# First accepted solution. This problem wasn't particularly hard, just had to think of the right while pattern for swapping node\n",
    "# pairs and had to find a way to handle odd length lists. \n",
    "\n",
    "# Definition for singly-linked list.\n",
    "# class ListNode:\n",
    "#     def __init__(self, val=0, next=None):\n",
    "#         self.val = val\n",
    "#         self.next = next\n",
    "class Solution:\n",
    "    def swapPairs(self, head: Optional[ListNode]) -> Optional[ListNode]:\n",
    "        if not head:\n",
    "            return None\n",
    "        if not head.next:\n",
    "            return head\n",
    "        return_head = head.next\n",
    "        next1 = head.next\n",
    "        while head.next:\n",
    "            prev = head\n",
    "            head.next = next1.next\n",
    "            next1.next = head\n",
    "            head = head.next\n",
    "            try:\n",
    "                next1 = head.next\n",
    "            except:\n",
    "                break\n",
    "            if next1:\n",
    "                prev.next = next1\n",
    "            else:\n",
    "                prev.next = head\n",
    "        return return_head\n",
    "            "
   ]
  },
  {
   "cell_type": "code",
   "execution_count": null,
   "id": "0bd85baf",
   "metadata": {},
   "outputs": [],
   "source": []
  }
 ],
 "metadata": {
  "kernelspec": {
   "display_name": "Python 3",
   "language": "python",
   "name": "python3"
  },
  "language_info": {
   "codemirror_mode": {
    "name": "ipython",
    "version": 3
   },
   "file_extension": ".py",
   "mimetype": "text/x-python",
   "name": "python",
   "nbconvert_exporter": "python",
   "pygments_lexer": "ipython3",
   "version": "3.8.8"
  }
 },
 "nbformat": 4,
 "nbformat_minor": 5
}
