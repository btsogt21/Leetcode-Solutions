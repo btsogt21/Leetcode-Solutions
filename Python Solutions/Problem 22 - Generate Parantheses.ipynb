{
 "cells": [
  {
   "cell_type": "markdown",
   "id": "75776059",
   "metadata": {},
   "source": [
    "## Description\n",
    "\n",
    "Given n pairs of parentheses, write a function to generate all combinations of well-formed parentheses.\n",
    "\n",
    "## Example 1:\n",
    "\n",
    "Input: n = 3\n",
    "\n",
    "Output: [\"((()))\",\"(()())\",\"(())()\",\"()(())\",\"()()()\"]\n",
    "\n",
    "## Example 2:\n",
    "\n",
    "Input: n = 1\n",
    "\n",
    "Output: [\"()\"]\n",
    "    \n",
    "## Constraints:\n",
    "\n",
    "1 <= n <= 8"
   ]
  },
  {
   "cell_type": "code",
   "execution_count": 4,
   "id": "5b49b789",
   "metadata": {},
   "outputs": [],
   "source": [
    "from __future__ import annotations #this was imported so that I could use built in types as generics. \n",
    "# Only >3.9 versions of python can use built in types as generics without this import."
   ]
  },
  {
   "cell_type": "code",
   "execution_count": 5,
   "id": "c556ded7",
   "metadata": {},
   "outputs": [],
   "source": [
    "class Solution:\n",
    "    def generateParenthesis(self, n: int) -> List[str]:\n",
    "        current_solution = []\n",
    "        return_list = []\n",
    "        def backtrack(open_count, closed_count):\n",
    "            #defining base case that will stop recursion\n",
    "            if (open_count == closed_count == n):\n",
    "                return_list.append(\"\".join(current_solution))\n",
    "                return\n",
    "            if (open_count<n):\n",
    "                current_solution.append('(')\n",
    "                backtrack(open_count + 1, closed_count)\n",
    "                current_solution.pop()\n",
    "            if (closed_count<open_count):\n",
    "                current_solution.append(')')\n",
    "                backtrack(open_count, closed_count +1)\n",
    "                current_solution.pop()\n",
    "        backtrack(0, 0)\n",
    "        return return_list"
   ]
  },
  {
   "cell_type": "code",
   "execution_count": null,
   "id": "39f9bfce",
   "metadata": {},
   "outputs": [],
   "source": []
  }
 ],
 "metadata": {
  "kernelspec": {
   "display_name": "Python 3",
   "language": "python",
   "name": "python3"
  },
  "language_info": {
   "codemirror_mode": {
    "name": "ipython",
    "version": 3
   },
   "file_extension": ".py",
   "mimetype": "text/x-python",
   "name": "python",
   "nbconvert_exporter": "python",
   "pygments_lexer": "ipython3",
   "version": "3.8.8"
  }
 },
 "nbformat": 4,
 "nbformat_minor": 5
}
