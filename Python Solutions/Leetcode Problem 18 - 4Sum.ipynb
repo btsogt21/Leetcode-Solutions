{
 "cells": [
  {
   "cell_type": "markdown",
   "id": "f926a051",
   "metadata": {},
   "source": [
    "## Description\n",
    "\n",
    "Given an array nums of n integers, return an array of all the unique quadruplets [nums[a], nums[b], nums[c], nums[d]] such that:\n",
    "\n",
    "0 <= a, b, c, d < n\n",
    "\n",
    "a, b, c, and d are distinct.\n",
    "\n",
    "nums[a] + nums[b] + nums[c] + nums[d] == target\n",
    "\n",
    "You may return the answer in any order.\n",
    "\n",
    "## Example 1:\n",
    "\n",
    "Input: nums = [1,0,-1,0,-2,2], target = 0\n",
    "\n",
    "Output: [[-2,-1,1,2],[-2,0,0,2],[-1,0,0,1]]\n",
    "\n",
    "## Example 2:\n",
    "\n",
    "Input: nums = [2,2,2,2,2], target = 8\n",
    "\n",
    "Output: [[2,2,2,2]]\n",
    "    \n",
    "## Constraints:\n",
    "\n",
    "1 <= nums.length <= 200\n",
    "\n",
    "-109 <= nums[i] <= 109\n",
    "\n",
    "-109 <= target <= 109"
   ]
  },
  {
   "cell_type": "code",
   "execution_count": 1,
   "id": "6e4c5372",
   "metadata": {},
   "outputs": [],
   "source": [
    "from __future__ import annotations #this was imported so that I could use built in types as generics. \n",
    "# Only >3.9 versions of python can use built in types as generics without this import."
   ]
  },
  {
   "cell_type": "code",
   "execution_count": 3,
   "id": "274f73ae",
   "metadata": {},
   "outputs": [],
   "source": [
    "# First accepted solution. Written without assistance.\n",
    "\n",
    "class Solution:\n",
    "    def fourSum(self, nums: List[int], target: int) -> List[List[int]]:\n",
    "        return_list = []\n",
    "        nums.sort()\n",
    "        for i, y in enumerate(nums):\n",
    "            if i>0 and y==nums[i-1]:\n",
    "                continue    \n",
    "            for j, x in enumerate(nums[i+1:]):\n",
    "                if j>0 and x == nums[j+i]:\n",
    "                    continue\n",
    "                left, right = j+i+2, len(nums) - 1\n",
    "                while left<right:\n",
    "                    total = y + x + nums[left] + nums[right]\n",
    "                    if total == target:\n",
    "                        return_list.append([y, x, nums[left], nums[right]])\n",
    "                        left +=1\n",
    "                        while left<right and nums[left] == nums[left-1]:\n",
    "                            left+=1\n",
    "                    elif total<target:\n",
    "                        left+=1\n",
    "                    else:\n",
    "                        right-=1\n",
    "        return return_list"
   ]
  },
  {
   "cell_type": "code",
   "execution_count": null,
   "id": "3026cc50",
   "metadata": {},
   "outputs": [],
   "source": []
  }
 ],
 "metadata": {
  "kernelspec": {
   "display_name": "Python 3",
   "language": "python",
   "name": "python3"
  },
  "language_info": {
   "codemirror_mode": {
    "name": "ipython",
    "version": 3
   },
   "file_extension": ".py",
   "mimetype": "text/x-python",
   "name": "python",
   "nbconvert_exporter": "python",
   "pygments_lexer": "ipython3",
   "version": "3.8.8"
  }
 },
 "nbformat": 4,
 "nbformat_minor": 5
}
