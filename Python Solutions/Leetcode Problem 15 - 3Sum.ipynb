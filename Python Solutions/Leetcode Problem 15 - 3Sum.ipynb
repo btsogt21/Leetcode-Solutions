{
 "cells": [
  {
   "cell_type": "markdown",
   "id": "dd29f685",
   "metadata": {},
   "source": [
    "## Description\n",
    "\n",
    "Given an integer array nums, return all the triplets [nums[i], nums[j], nums[k]] such that i != j, i != k, and j != k, and nums[i] + nums[j] + nums[k] == 0.\n",
    "\n",
    "Notice that the solution set must not contain duplicate triplets.\n",
    "\n",
    "## Example 1:\n",
    "\n",
    "Input: nums = [-1,0,1,2,-1,-4]\n",
    "    \n",
    "Output: [[-1,-1,2],[-1,0,1]]\n",
    "\n",
    "## Example 2:\n",
    "\n",
    "Input: nums = []\n",
    "    \n",
    "Output: []\n",
    "    \n",
    "## Example 3:\n",
    "\n",
    "Input: nums = [0]\n",
    "    \n",
    "Output: []\n",
    "    \n",
    "## Constraints:\n",
    "\n",
    "0 <= nums.length <= 3000\n",
    "\n",
    "$-10^{4}$ <= nums[i] <= $10^{4}$"
   ]
  },
  {
   "cell_type": "code",
   "execution_count": 2,
   "id": "59094758",
   "metadata": {},
   "outputs": [],
   "source": [
    "from __future__ import annotations #this was imported so that I could use built in types as generics. \n",
    "# Only >3.9 versions of python can use built in types as generics without this import."
   ]
  },
  {
   "cell_type": "code",
   "execution_count": 3,
   "id": "238a477c",
   "metadata": {},
   "outputs": [],
   "source": [
    "# First solution. This one was written without assistance. Could not verify acceptance due to being poorly optimized (runtime\n",
    "# exceeded), but I am fairly certain this should cover all the edge cases. \n",
    "\n",
    "# This problem was not particularly difficult to solve through brute force as it essentially was just asking for a triple loop\n",
    "# to access all possible three number combinations. I added some extra if clauses in conjunction with lists of sets and lists of\n",
    "# sorted lists in order to abide by the problem's restrictions (numbers sum to zero, can't have the same position index, and \n",
    "# return list should not contain duplicate triplets).\n",
    "\n",
    "class Solution:\n",
    "    def threeSum(self, nums: List[int]) -> List[List[int]]:\n",
    "        set_list, return_list, sorted_return_list = [], [], []\n",
    "        for count, i in enumerate(nums):\n",
    "            for count_0, y in enumerate(nums):\n",
    "                for count_1, z in enumerate(nums):\n",
    "                    if count == count_0 or count == count_1 or count_1 == count_0 or (i + y + z !=0) or (set([count, count_0, count_1]) in set_list) or (sorted([i, y, z]) in sorted_return_list):\n",
    "                        continue\n",
    "                    else:\n",
    "                        return_list.append([i, y, z])\n",
    "                        set_list.append(set[count, count_0, count_1])\n",
    "                        sorted_return_list.append(sorted([i, y, z]))\n",
    "        return return_list\n",
    "\n",
    "# Time complexity is likely to be pretty high, at least O(n^3) where n is the size of the input list"
   ]
  },
  {
   "cell_type": "code",
   "execution_count": 4,
   "id": "98815e41",
   "metadata": {},
   "outputs": [],
   "source": [
    "# Second accepted solution. I wrote this one after going over some previous problems where I used left and right pointers to\n",
    "# simplify the search process.\n",
    "\n",
    "# The first step to this problem is sorting our input list so that it is in ascending order. This will prove crucial to using\n",
    "# left and right pointers to go through each available position combination instead of nested loops.\n",
    "# Then, we are essentially going through a process of elimination where we choose different 'starting' pointers from our input list\n",
    "# in the order that they are in, assigning them all their own left and right pointers that correspond to the i+1-th index\n",
    "# (where i is the index of our starting pointer) and the last index in the input list respectively. Then, for each of these starting\n",
    "# pointers, while the left pointer is less than the right pointer, we sum the numbers held in the index positions corresponding to\n",
    "# our starting, left, and right pointers. Then, we check if the total is greater than or less than zero, decrementing the right pointer\n",
    "# if it is greater (list is in ascending order, so decrementing right pointer by one index position each will give us successively\n",
    "# smaller numbers, thereby decreasing our total) and incrementing the left pointer if it is less (incrementing right pointer one\n",
    "# by one will give us increasingly large numbers, thereby increasing our total bit by bit). If the total is equal to zero, we\n",
    "# append a list of the current starting, left, and right pointers to our return list. Then, we continue checking for more\n",
    "# unique combinations that sum to zero.\n",
    "\n",
    "class Solution:\n",
    "    def threeSum(self, nums: List[int]) -> List[List[int]]:\n",
    "        return_list = []\n",
    "        nums.sort()\n",
    "        for i, y in enumerate(nums):\n",
    "            if i>0 and y == nums[i-1]: # checking to see if we have already tried current number (y) in the previous iteration\n",
    "                continue\n",
    "            left, right = i + 1, len(nums) - 1\n",
    "            while left<right:\n",
    "                total = y + nums[left] + nums[right]\n",
    "                if total>0:\n",
    "                    right -=1\n",
    "                elif total<0:\n",
    "                    left +=1\n",
    "                else:\n",
    "                    return_list.append([y, nums[left], nums[right]])\n",
    "                    left +=1\n",
    "                    #\n",
    "                    while nums[left] == nums[left-1] and left<right: # skip if next iteration is same number as previous\n",
    "                        left +=1\n",
    "        return return_list\n",
    "\n",
    "# Time complexity is O(n^2), where n is the number of items in our input list. \n",
    "# This is because the largest time drain is in the for loop and the while loop nested inside of it.\n",
    "# Both depend on the length of the input array, and seeing as there are no operations more time intensive than these loops,\n",
    "# overall should be O(n^2). Next most time intensive operation here should be the sorting function which is O(n*log(n))."
   ]
  },
  {
   "cell_type": "code",
   "execution_count": null,
   "id": "ae8dbc6e",
   "metadata": {},
   "outputs": [],
   "source": []
  },
  {
   "cell_type": "code",
   "execution_count": null,
   "id": "5f761d76",
   "metadata": {},
   "outputs": [],
   "source": []
  },
  {
   "cell_type": "code",
   "execution_count": null,
   "id": "7aa8e79a",
   "metadata": {},
   "outputs": [],
   "source": []
  }
 ],
 "metadata": {
  "kernelspec": {
   "display_name": "Python 3",
   "language": "python",
   "name": "python3"
  },
  "language_info": {
   "codemirror_mode": {
    "name": "ipython",
    "version": 3
   },
   "file_extension": ".py",
   "mimetype": "text/x-python",
   "name": "python",
   "nbconvert_exporter": "python",
   "pygments_lexer": "ipython3",
   "version": "3.8.8"
  }
 },
 "nbformat": 4,
 "nbformat_minor": 5
}
