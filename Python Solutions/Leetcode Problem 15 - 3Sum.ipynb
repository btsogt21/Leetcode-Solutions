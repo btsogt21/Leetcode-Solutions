{
 "cells": [
  {
   "cell_type": "markdown",
   "id": "dd29f685",
   "metadata": {},
   "source": [
    "## Description\n",
    "\n",
    "Given an integer array nums, return all the triplets [nums[i], nums[j], nums[k]] such that i != j, i != k, and j != k, and nums[i] + nums[j] + nums[k] == 0.\n",
    "\n",
    "Notice that the solution set must not contain duplicate triplets.\n",
    "\n",
    "## Example 1:\n",
    "\n",
    "Input: nums = [-1,0,1,2,-1,-4]\n",
    "    \n",
    "Output: [[-1,-1,2],[-1,0,1]]\n",
    "\n",
    "## Example 2:\n",
    "\n",
    "Input: nums = []\n",
    "    \n",
    "Output: []\n",
    "    \n",
    "## Example 3:\n",
    "\n",
    "Input: nums = [0]\n",
    "    \n",
    "Output: []\n",
    "    \n",
    "## Constraints:\n",
    "\n",
    "0 <= nums.length <= 3000\n",
    "\n",
    "-105 <= nums[i] <= 10^"
   ]
  },
  {
   "cell_type": "code",
   "execution_count": 8,
   "id": "59094758",
   "metadata": {},
   "outputs": [],
   "source": [
    "from __future__ import annotations #this was imported so that I could use built in types as generics. \n",
    "# Only >3.9 versions of python can use built in types as generics without this import."
   ]
  },
  {
   "cell_type": "code",
   "execution_count": 200,
   "id": "238a477c",
   "metadata": {},
   "outputs": [],
   "source": [
    "# First solution. This one was written without assistance. Could not verify acceptance due to being poorly optimized (runtime\n",
    "# exceeded), but I am fairly certain this should cover all the edge cases. \n",
    "\n",
    "# This problem was not particularly difficult to solve through brute force as it essentially was just asking for a triple loop\n",
    "# to access all possible three number combinations. I added some extra if clauses in conjunction with lists of sets and lists of\n",
    "# sorted lists in order to abide by the problem's restrictions (numbers sum to zero, can't have the same position index, and \n",
    "# return list should not contain duplicate triplets).\n",
    "\n",
    "class Solution:\n",
    "    def threeSum(self, nums: List[int]) -> List[List[int]]:\n",
    "        set_list, return_list, sorted_return_list = [], [], []\n",
    "        for count, i in enumerate(nums):\n",
    "            for count_0, y in enumerate(nums):\n",
    "                for count_1, z in enumerate(nums):\n",
    "                    if count == count_0 or count == count_1 or count_1 == count_0 or (i + y + z !=0) or (set([count, count_0, count_1]) in set_list) or (sorted([i, y, z]) in sorted_return_list):\n",
    "                        continue\n",
    "                    else:\n",
    "                        return_list.append([i, y, z])\n",
    "                        set_list.append(set[count, count_0, count_1])\n",
    "                        sorted_return_list.append(sorted([i, y, z]))\n",
    "        return return_list\n"
   ]
  },
  {
   "cell_type": "code",
   "execution_count": 42,
   "id": "98815e41",
   "metadata": {},
   "outputs": [
    {
     "name": "stdout",
     "output_type": "stream",
     "text": [
      "0\n",
      "1\n",
      "2\n",
      "\n",
      "\n",
      "1\n",
      "2\n",
      "\n",
      "\n",
      "0\n",
      "1\n",
      "3\n",
      "\n",
      "\n",
      "1\n",
      "2\n",
      "\n",
      "\n",
      "0\n",
      "2\n",
      "3\n",
      "\n",
      "\n",
      "1\n",
      "3\n",
      "\n",
      "\n",
      "0\n",
      "3\n",
      "3\n",
      "\n",
      "\n",
      "1\n",
      "3\n",
      "\n",
      "\n",
      "1\n",
      "2\n",
      "3\n",
      "\n",
      "\n",
      "2\n",
      "3\n",
      "\n",
      "\n",
      "1\n",
      "3\n",
      "3\n",
      "\n",
      "\n",
      "2\n",
      "3\n",
      "\n",
      "\n",
      "2\n",
      "3\n",
      "3\n",
      "\n",
      "\n",
      "3\n",
      "3\n",
      "\n",
      "\n",
      "3\n",
      "3\n",
      "3\n",
      "\n",
      "\n",
      "3\n",
      "3\n",
      "\n",
      "\n"
     ]
    }
   ],
   "source": [
    "# accessing each position in the array without duplicates\n",
    "\n",
    "n = 1\n",
    "l = 2\n",
    "for i in range(len(s)):\n",
    "    for y in range(len(s))[n:]:\n",
    "        for x in range(len(s))[l:]:\n",
    "            print(i)\n",
    "            print(y)\n",
    "            print(x)\n",
    "            print(\"\\n\")\n",
    "            print(n)\n",
    "            print(l)\n",
    "            print(\"\\n\")\n",
    "        if (l < len(s)-1):\n",
    "            l+=1\n",
    "    if(n<len(s)-1):\n",
    "        n+=1\n"
   ]
  },
  {
   "cell_type": "code",
   "execution_count": 196,
   "id": "f7eb6e1a",
   "metadata": {},
   "outputs": [],
   "source": [
    "# accessing each position in the array WITH duplicates, this one may benefit most from a dictionary to store previous results\n",
    "#dict to store indices + whether or not that set would pass \n",
    "# s = [-1,0,1,2,-1,-4]\n",
    "# s = [0, 0, 0 ,0]\n",
    "# s = [-1, 0, 1, 0]\n",
    "s = [-2,0,1,1,2]\n",
    "return_list = []\n",
    "position_list = []\n",
    "sorted_return_list = []\n",
    "for count, i in enumerate(s):\n",
    "    for count_0, y in enumerate(s):\n",
    "        for count_1, z in enumerate(s):\n",
    "            if count == count_0 or count == count_1 or count_1 == count_0 or (i + y + z !=0) or (set([count, count_0, count_1]) in position_list)  or (sorted([i, y, z]) in sorted_return_list):\n",
    "                continue\n",
    "            else:\n",
    "                return_list.append([i, y, z])\n",
    "                sorted_return_list.append(sorted([i, y, z]))\n",
    "                position_list.append(set([count, count_0, count_1]))"
   ]
  },
  {
   "cell_type": "code",
   "execution_count": 197,
   "id": "5861e198",
   "metadata": {},
   "outputs": [
    {
     "data": {
      "text/plain": [
       "[[-2, 0, 2], [-2, 1, 1]]"
      ]
     },
     "execution_count": 197,
     "metadata": {},
     "output_type": "execute_result"
    }
   ],
   "source": [
    "return_list"
   ]
  },
  {
   "cell_type": "code",
   "execution_count": 198,
   "id": "cac43839",
   "metadata": {},
   "outputs": [
    {
     "data": {
      "text/plain": [
       "{}"
      ]
     },
     "execution_count": 198,
     "metadata": {},
     "output_type": "execute_result"
    }
   ],
   "source": [
    "storage_dict_2"
   ]
  },
  {
   "cell_type": "code",
   "execution_count": 199,
   "id": "fc37297e",
   "metadata": {},
   "outputs": [
    {
     "data": {
      "text/plain": [
       "[[-2, 0, 2], [-2, 1, 1]]"
      ]
     },
     "execution_count": 199,
     "metadata": {},
     "output_type": "execute_result"
    }
   ],
   "source": [
    "sorted_return_list"
   ]
  },
  {
   "cell_type": "code",
   "execution_count": 146,
   "id": "b9826b74",
   "metadata": {},
   "outputs": [],
   "source": [
    "return_list_2 = ''"
   ]
  },
  {
   "cell_type": "code",
   "execution_count": 147,
   "id": "bfe32bd8",
   "metadata": {},
   "outputs": [
    {
     "ename": "IndexError",
     "evalue": "string index out of range",
     "output_type": "error",
     "traceback": [
      "\u001b[1;31m---------------------------------------------------------------------------\u001b[0m",
      "\u001b[1;31mIndexError\u001b[0m                                Traceback (most recent call last)",
      "\u001b[1;32m<ipython-input-147-24ad5d17409f>\u001b[0m in \u001b[0;36m<module>\u001b[1;34m\u001b[0m\n\u001b[1;32m----> 1\u001b[1;33m \u001b[0mreturn_list_2\u001b[0m\u001b[1;33m[\u001b[0m\u001b[1;33m-\u001b[0m\u001b[1;36m1\u001b[0m\u001b[1;33m]\u001b[0m\u001b[1;33m\u001b[0m\u001b[1;33m\u001b[0m\u001b[0m\n\u001b[0m",
      "\u001b[1;31mIndexError\u001b[0m: string index out of range"
     ]
    }
   ],
   "source": [
    "return_list_2[-1]"
   ]
  },
  {
   "cell_type": "code",
   "execution_count": 148,
   "id": "65714ea1",
   "metadata": {},
   "outputs": [
    {
     "ename": "SyntaxError",
     "evalue": "invalid syntax (<ipython-input-148-1142b666c62c>, line 1)",
     "output_type": "error",
     "traceback": [
      "\u001b[1;36m  File \u001b[1;32m\"<ipython-input-148-1142b666c62c>\"\u001b[1;36m, line \u001b[1;32m1\u001b[0m\n\u001b[1;33m    if set([1, 2, 3]) in\u001b[0m\n\u001b[1;37m                         ^\u001b[0m\n\u001b[1;31mSyntaxError\u001b[0m\u001b[1;31m:\u001b[0m invalid syntax\n"
     ]
    }
   ],
   "source": [
    "if set([1, 2, 3]) in "
   ]
  },
  {
   "cell_type": "code",
   "execution_count": 73,
   "id": "120f52b7",
   "metadata": {},
   "outputs": [
    {
     "data": {
      "text/plain": [
       "{1}"
      ]
     },
     "execution_count": 73,
     "metadata": {},
     "output_type": "execute_result"
    }
   ],
   "source": [
    "set([1, 1, 1])"
   ]
  },
  {
   "cell_type": "code",
   "execution_count": null,
   "id": "ee947505",
   "metadata": {},
   "outputs": [],
   "source": []
  }
 ],
 "metadata": {
  "kernelspec": {
   "display_name": "Python 3",
   "language": "python",
   "name": "python3"
  },
  "language_info": {
   "codemirror_mode": {
    "name": "ipython",
    "version": 3
   },
   "file_extension": ".py",
   "mimetype": "text/x-python",
   "name": "python",
   "nbconvert_exporter": "python",
   "pygments_lexer": "ipython3",
   "version": "3.8.8"
  }
 },
 "nbformat": 4,
 "nbformat_minor": 5
}
