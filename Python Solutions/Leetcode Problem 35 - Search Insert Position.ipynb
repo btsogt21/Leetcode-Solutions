{
 "cells": [
  {
   "cell_type": "markdown",
   "id": "f5e6c7a7",
   "metadata": {},
   "source": [
    "## Description\n",
    "\n",
    "Given a sorted array of distinct integers and a target value, return the index if the target is found. If not, return the index where it would be if it were inserted in order.\n",
    "\n",
    "You must write an algorithm with O(log n) runtime complexity.\n",
    "\n",
    "\n",
    "## Example 1:\n",
    "\n",
    "Input: nums = [1,3,5,6], target = 5\n",
    "\n",
    "Output: 2\n",
    "\n",
    "## Example 2:\n",
    "\n",
    "Input: nums = [1,3,5,6], target = 2\n",
    "\n",
    "Output: 1\n",
    "\n",
    "## Example 3:\n",
    "\n",
    "Input: nums = [1,3,5,6], target = 7\n",
    "\n",
    "Output: 4\n",
    "\n",
    "## Constraints:\n",
    "\n",
    "1 <= nums.length <= 10^4\n",
    "\n",
    "-10^4 <= nums[i] <= 10^4\n",
    "\n",
    "nums contains distinct values sorted in ascending order.\n",
    "\n",
    "-10^4 <= target <= 10^4"
   ]
  },
  {
   "cell_type": "code",
   "execution_count": 2,
   "id": "3ed91252",
   "metadata": {},
   "outputs": [],
   "source": [
    "from __future__ import annotations #this was imported so that I could use built in types as generics. \n",
    "# Only >3.9 versions of python can use built in types as generics without this import."
   ]
  },
  {
   "cell_type": "code",
   "execution_count": 3,
   "id": "04fb5c18",
   "metadata": {},
   "outputs": [],
   "source": [
    "# First accepted solution. Written without asssitance. Basic binary search,\n",
    "# slightly modified so that we can account for cases where we're searching for\n",
    "# a target value from an input list with only one position. Modification lies in\n",
    "# the final return l statement and the l<=r (typically would be l<r instead).\n",
    "\n",
    "class Solution:\n",
    "    def searchInsert(self, nums: List[int], target: int) -> int:\n",
    "        l, r = 0, len(nums)-1\n",
    "        while l<=r:\n",
    "            m = (l+r)//2\n",
    "            if nums[m] == target:\n",
    "                return m\n",
    "            elif nums[m] > target:\n",
    "                r = m-1\n",
    "            else:\n",
    "                l = m+1\n",
    "        return l"
   ]
  },
  {
   "cell_type": "code",
   "execution_count": null,
   "id": "e5070a4b",
   "metadata": {},
   "outputs": [],
   "source": []
  }
 ],
 "metadata": {
  "kernelspec": {
   "display_name": "Python 3 (ipykernel)",
   "language": "python",
   "name": "python3"
  },
  "language_info": {
   "codemirror_mode": {
    "name": "ipython",
    "version": 3
   },
   "file_extension": ".py",
   "mimetype": "text/x-python",
   "name": "python",
   "nbconvert_exporter": "python",
   "pygments_lexer": "ipython3",
   "version": "3.9.7"
  }
 },
 "nbformat": 4,
 "nbformat_minor": 5
}
