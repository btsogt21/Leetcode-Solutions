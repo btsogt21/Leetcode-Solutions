{
 "cells": [
  {
   "cell_type": "markdown",
   "id": "ff964795",
   "metadata": {},
   "source": [
    "## Description\n",
    "\n",
    "Given an input string s and a pattern p, implement regular expression matching with support for '.' and '\\*' where:\n",
    "\n",
    "'.' Matches any single character.\n",
    "\n",
    "\"\\*\" Matches zero or more of the preceding element.\n",
    "\n",
    "The matching should cover the entire input string (not partial).\n",
    "\n",
    "## Example 1:\n",
    "\n",
    "Input: s = \"aa\", p = \"a\"\n",
    "\n",
    "Output: false\n",
    "\n",
    "Explanation: \"a\" does not match the entire string \"aa\".\n",
    "\n",
    "## Example 2:\n",
    "\n",
    "Input: s = \"aa\", p = \"a*\"\n",
    "\n",
    "Output: true\n",
    "\n",
    "Explanation: '\\*' means zero or more of the preceding element, 'a'. Therefore, by repeating 'a' once, it becomes \"aa\".\n",
    "\n",
    "## Example 3:\n",
    "\n",
    "Input: s = \"ab\", p = \".\\*\"\n",
    "\n",
    "Output: true\n",
    "\n",
    "Explanation: \".\\*\" means \"zero or more (\\*) of any character (.)\"."
   ]
  },
  {
   "cell_type": "markdown",
   "id": "422fd3c6",
   "metadata": {},
   "source": [
    "## Solution"
   ]
  },
  {
   "cell_type": "code",
   "execution_count": 2,
   "id": "28493501",
   "metadata": {},
   "outputs": [],
   "source": [
    "from __future__ import annotations #this was imported so that I could use built in types as generics. \n",
    "# Only >3.9 versions of python can use built in types as generics without this import."
   ]
  },
  {
   "cell_type": "code",
   "execution_count": 8,
   "id": "39086025",
   "metadata": {},
   "outputs": [],
   "source": [
    "# First accepted solution. This one was indeed written with outside assistance, particularly from this video:\n",
    "# https://www.youtube.com/watch?v=HAA8mgxlov8\n",
    "# I was able to get the brute force method down but I was unsure how to optimize it for runtime. This video helped me out\n",
    "# by not only showing me how to restructure my brute force to make it more amenable for caching, but also showing me how to\n",
    "# combine caching and recursion to reduce runtime. \n",
    "\n",
    "# In terms of explaining this problem and its solution, you would probably be better served watching the video linked above rather\n",
    "# than reading my ramblings. However, here is my explanation for why this solution works:\n",
    "\n",
    "# So, to start with, we can see that the problem we have can sort of be reduced down to a binary tree of decisions. \n",
    "# \n",
    "\n",
    "class Solution:\n",
    "    def isMatch(self, s: str, p: str) -> bool:\n",
    "        storage = {}\n",
    "        def depthfirst(i, y):\n",
    "            if (i, y) in storage:\n",
    "                return storage[(i, y)]\n",
    "            if (i>=len(s) and y>=len(p)):\n",
    "                return True\n",
    "            if y>=len(p):\n",
    "                return False\n",
    "            check_current = i<len(s) and (s[i] == p[y] or p[y] == '.')\n",
    "            if (y+1 < len(p) and p[y+1] == '*'):\n",
    "                storage[(i, y)] = (depthfirst(i, y+2) or (check_current and depthfirst(i+1, y)))\n",
    "                return storage[(i, y)]\n",
    "            if check_current:\n",
    "                storage[(i, y)] = depthfirst(i+1, y+1)\n",
    "                return storage[(i, y)]\n",
    "            return False\n",
    "        return depthfirst(0, 0)"
   ]
  },
  {
   "cell_type": "code",
   "execution_count": null,
   "id": "2d4b75fb",
   "metadata": {},
   "outputs": [],
   "source": []
  }
 ],
 "metadata": {
  "kernelspec": {
   "display_name": "Python 3",
   "language": "python",
   "name": "python3"
  },
  "language_info": {
   "codemirror_mode": {
    "name": "ipython",
    "version": 3
   },
   "file_extension": ".py",
   "mimetype": "text/x-python",
   "name": "python",
   "nbconvert_exporter": "python",
   "pygments_lexer": "ipython3",
   "version": "3.8.8"
  }
 },
 "nbformat": 4,
 "nbformat_minor": 5
}
