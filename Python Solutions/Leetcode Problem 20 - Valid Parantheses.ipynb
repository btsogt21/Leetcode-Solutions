{
 "cells": [
  {
   "cell_type": "markdown",
   "id": "68eb0b20",
   "metadata": {},
   "source": [
    "## Description\n",
    "\n",
    "Given a string s containing just the characters '(', ')', '{', '}', '[' and ']', determine if the input string is valid.\n",
    "\n",
    "An input string is valid if:\n",
    "\n",
    "1. Open brackets must be closed by the same type of brackets.\n",
    "\n",
    "2. Open brackets must be closed in the correct order.\n",
    "\n",
    "## Example 1:\n",
    "\n",
    "Input: s = \"()\"\n",
    "\n",
    "Output: true\n",
    "\n",
    "## Example 2:\n",
    "\n",
    "Input: s = \"()[]{}\"\n",
    "\n",
    "Output: true\n",
    "\n",
    "## Example 3:\n",
    "\n",
    "Input: s = \"(]\"\n",
    "\n",
    "Output: false\n",
    "    \n",
    "## Constraints:\n",
    "\n",
    "1 <= s.length <= 104\n",
    "\n",
    "s consists of parentheses only '()[]{}'."
   ]
  },
  {
   "cell_type": "code",
   "execution_count": 4,
   "id": "b1b68841",
   "metadata": {},
   "outputs": [],
   "source": [
    "from __future__ import annotations #this was imported so that I could use built in types as generics. \n",
    "# Only >3.9 versions of python can use built in types as generics without this import."
   ]
  },
  {
   "cell_type": "code",
   "execution_count": 5,
   "id": "e5d5f07b",
   "metadata": {},
   "outputs": [],
   "source": [
    "class Solution:\n",
    "    def isValid(self, s: str) -> bool:\n",
    "        dict_brackets = {\n",
    "            \"}\": \"{\",\n",
    "            \")\": \"(\",\n",
    "            \"]\": '['\n",
    "        }\n",
    "        storage = []\n",
    "        for i in s:\n",
    "            if i in dict_brackets:\n",
    "                if storage and storage[-1] == dict_brackets[i]:\n",
    "                    storage.pop()\n",
    "                else:\n",
    "                    return False\n",
    "            else:\n",
    "                storage.append(i)\n",
    "        if not storage:\n",
    "            return True\n",
    "        else:\n",
    "            return False"
   ]
  },
  {
   "cell_type": "code",
   "execution_count": null,
   "id": "0e69c2da",
   "metadata": {},
   "outputs": [],
   "source": []
  }
 ],
 "metadata": {
  "kernelspec": {
   "display_name": "Python 3",
   "language": "python",
   "name": "python3"
  },
  "language_info": {
   "codemirror_mode": {
    "name": "ipython",
    "version": 3
   },
   "file_extension": ".py",
   "mimetype": "text/x-python",
   "name": "python",
   "nbconvert_exporter": "python",
   "pygments_lexer": "ipython3",
   "version": "3.8.8"
  }
 },
 "nbformat": 4,
 "nbformat_minor": 5
}
