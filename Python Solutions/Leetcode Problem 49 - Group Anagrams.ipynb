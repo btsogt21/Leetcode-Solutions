{
 "cells": [
  {
   "cell_type": "markdown",
   "id": "b7119777",
   "metadata": {},
   "source": [
    "## Description\n",
    "\n",
    "Given an array of strings strs, group the anagrams together. You can return the answer in any order.\n",
    "\n",
    "An Anagram is a word or phrase formed by rearranging the letters of a different word or phrase, typically using all the original letters exactly once.\n",
    "\n",
    "\n",
    "## Example 1:\n",
    "\n",
    "Input: strs = [\"eat\",\"tea\",\"tan\",\"ate\",\"nat\",\"bat\"]\n",
    "\n",
    "Output: [[\"bat\"],[\"nat\",\"tan\"],[\"ate\",\"eat\",\"tea\"]]\n",
    "\n",
    "## Example 2:\n",
    "\n",
    "Input: strs = [\"\"]\n",
    "\n",
    "Output: [[\"\"]]\n",
    "\n",
    "## Example 3:\n",
    "\n",
    "Input: strs = [\"a\"]\n",
    "\n",
    "Output: [[\"a\"]]\n",
    "\n",
    "## Constraints:\n",
    "\n",
    "1 <= strs.length <= 104\n",
    "\n",
    "0 <= strs[i].length <= 100\n",
    "\n",
    "strs[i] consists of lowercase English letters."
   ]
  },
  {
   "cell_type": "code",
   "execution_count": 15,
   "id": "93643a05",
   "metadata": {},
   "outputs": [],
   "source": [
    "from __future__ import annotations #this was imported so that I could use built in types as generics. \n",
    "# Only >3.9 versions of python can use built in types as generics without this import."
   ]
  },
  {
   "cell_type": "code",
   "execution_count": 18,
   "id": "98ec5690",
   "metadata": {},
   "outputs": [],
   "source": [
    "# First accepted solution. This problem was not particularly difficult either. Utilized a dict\n",
    "# with sorted strings as the key to keep track of anagram groups I could pick out from the\n",
    "# input list. Looped through this dictionary afterward to transfer results into an appropriately\n",
    "# formatted return list. \n",
    "\n",
    "\n",
    "class Solution:\n",
    "    def groupAnagrams(self, strs: List[str]) -> List[List[str]]:\n",
    "        anagram_dict = {}\n",
    "        return_list = []\n",
    "        for i in strs:\n",
    "            temp_str = str(sorted(i))\n",
    "            if temp_str in anagram_dict:\n",
    "                anagram_dict[temp_str].append(i)\n",
    "            else:\n",
    "                anagram_dict[temp_str] = []\n",
    "                anagram_dict[temp_str].append(i)\n",
    "        for i in anagram_dict:\n",
    "            temp_list = []\n",
    "            for y in anagram_dict[i]:\n",
    "                temp_list.append(y)\n",
    "            return_list.append(temp_list)\n",
    "        return return_list"
   ]
  },
  {
   "cell_type": "code",
   "execution_count": null,
   "id": "fb2c47bc",
   "metadata": {},
   "outputs": [],
   "source": []
  }
 ],
 "metadata": {
  "kernelspec": {
   "display_name": "Python 3 (ipykernel)",
   "language": "python",
   "name": "python3"
  },
  "language_info": {
   "codemirror_mode": {
    "name": "ipython",
    "version": 3
   },
   "file_extension": ".py",
   "mimetype": "text/x-python",
   "name": "python",
   "nbconvert_exporter": "python",
   "pygments_lexer": "ipython3",
   "version": "3.9.7"
  }
 },
 "nbformat": 4,
 "nbformat_minor": 5
}
