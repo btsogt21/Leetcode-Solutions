{
 "cells": [
  {
   "cell_type": "markdown",
   "id": "bc193d55",
   "metadata": {},
   "source": [
    "## Description\n",
    "Given a string s, find the length of the longest substring without repeating characters.\n",
    "\n",
    "Difficulty: Medium"
   ]
  },
  {
   "cell_type": "markdown",
   "id": "f1b72141",
   "metadata": {},
   "source": [
    "## Example 1\n",
    "\n",
    "Input: s = \"abcabcbb\"\n",
    "\n",
    "Output: 3\n",
    "\n",
    "Explanation: The answer is \"abc\", with the length of 3."
   ]
  },
  {
   "cell_type": "markdown",
   "id": "5734292f",
   "metadata": {},
   "source": [
    "## Example 2\n",
    "\n",
    "Input: s = \"bbbbb\"\n",
    "    \n",
    "Output: 1\n",
    "\n",
    "Explanation: The answer is \"b\", with the length of 1."
   ]
  },
  {
   "cell_type": "markdown",
   "id": "702541dd",
   "metadata": {},
   "source": [
    "## Example 3\n",
    "\n",
    "Input: s = \"pwwkew\"\n",
    "    \n",
    "Output: 3\n",
    "    \n",
    "Explanation: The answer is \"wke\", with the length of 3.\n",
    "    \n",
    "Notice that the answer must be a substring, \"pwke\" is a subsequence and not a substring."
   ]
  },
  {
   "cell_type": "markdown",
   "id": "cf7c392d",
   "metadata": {},
   "source": [
    "## Example 4\n",
    "\n",
    "Input: s = \"\"\n",
    "\n",
    "Output: 0"
   ]
  },
  {
   "cell_type": "markdown",
   "id": "da086b72",
   "metadata": {},
   "source": [
    "## Constraints\n",
    "\n",
    "$0 <= s.length <= 5 * 10^4$\n",
    "\n",
    "s consists of English letters, digits, symbols and spaces."
   ]
  },
  {
   "cell_type": "markdown",
   "id": "85e586b9",
   "metadata": {},
   "source": [
    "## Solution"
   ]
  },
  {
   "cell_type": "code",
   "execution_count": 1,
   "id": "0556e341",
   "metadata": {},
   "outputs": [],
   "source": [
    "from __future__ import annotations #this was imported so that I could use built in types as generics. \n",
    "# Only >3.9 versions of python can use built in types as generics without this import."
   ]
  },
  {
   "cell_type": "code",
   "execution_count": null,
   "id": "50b456a2",
   "metadata": {},
   "outputs": [],
   "source": [
    "# First accepted solution. Written without assistance. Not particularly difficult.\n",
    "\n",
    "# Usint left and right pointers to keep track of edges of window. Using set\n",
    "# to keep track of whether or not we find duplicates within our window.\n",
    "# If duplicate is found, we restart the window at the index right after\n",
    "# the previous occurance of the duplicate that we just identified. We do\n",
    "# this until our right pointer reaches the end of the input string s. \n",
    "\n",
    "\n",
    "\n",
    "class Solution:\n",
    "    def lengthOfLongestSubstring(self, s: str) -> int:\n",
    "        if len(s) == 0:\n",
    "            return 0\n",
    "        if len(s) == 1:\n",
    "            return 1\n",
    "        l, r = 0, 1\n",
    "        max_len = 1\n",
    "        letter_set = set()\n",
    "        letter_set.add(s[l])\n",
    "        while l<r and r<=len(s)-1:\n",
    "            if s[r] not in letter_set:\n",
    "                letter_set.add(s[r])\n",
    "                r+=1\n",
    "                # max_len = max(max_len, (r-l+1))\n",
    "                max_len = max(max_len, len(letter_set))\n",
    "            else:\n",
    "                l+=1\n",
    "                r = l+1\n",
    "                letter_set = set()\n",
    "                letter_set.add(s[l])\n",
    "        return max_len"
   ]
  },
  {
   "cell_type": "code",
   "execution_count": 2,
   "id": "2817767b",
   "metadata": {},
   "outputs": [],
   "source": [
    "# Second accepted solution. This one was written without assistance.\n",
    "\n",
    "class Solution:\n",
    "    # Method that takes in a string and searches for the longest non-repeating substring within it. Once it has found the \n",
    "    # longest non-repeating substring, it returns its length. The below algorithm keeps a set containing those elements\n",
    "    # which are considered to be part of the current longest non-repeating substring. That is, the set will keep getting elements\n",
    "    # added to it (by looping through the input string and adding each i-th element) until we encounter an element that is \n",
    "    # already present within the set. At that point, we remove elements from the set in the order that they were added until \n",
    "    # the element that was already present within the set gets removed. The counter keeps track of how many items were removed in\n",
    "    # this manner, thereby giving us a proxy for the 'beginning' of our newest non-repeating substring. To find the maxlength during\n",
    "    # each iteration of the outer loop, we take the current 'i' value, add 1 to it (since indexes begin at 0 instead of 1), and subtract\n",
    "    # the current counter value (which is a proxy for the 'beginning' position of the current longest non-repeating substring).\n",
    "    \n",
    "    # @param 's': input string\n",
    "    # @returns 'MaxLength': length of the longest non-repeating substring within the input string\n",
    "    def lengthOfLongestSubstring(self, s: str) -> int:\n",
    "        counter = MaxLength = 0\n",
    "        set_storage = set()\n",
    "        for i in range(len(s)):\n",
    "            while s[i] in set_storage:\n",
    "                set_storage.remove(s[counter])\n",
    "                counter += 1\n",
    "            set_storage.add(s[i])\n",
    "            MaxLength = max(MaxLength, i - counter + 1)\n",
    "        return MaxLength"
   ]
  },
  {
   "cell_type": "code",
   "execution_count": 3,
   "id": "ae45be70",
   "metadata": {},
   "outputs": [],
   "source": [
    "# Third accepted solution. This one was written after consulting the discussion section of this problem on how to achieve\n",
    "# better time and space complexity. \n",
    "\n",
    "class Solution:\n",
    "    \n",
    "# This algorithm works quite similarly to the one above, except this time it includes some initial if conditions to check whether\n",
    "# we can immediately return a 0 or a 1 based on the length of the input string, and instead of using a set to store input string\n",
    "# elements that we have looped over, we use a dictionary in which the key is the element, and the value associated with the key\n",
    "# is the current i in the loop. If we encounter a string element that is already a key within the dictionary, we just update the\n",
    "# key's associated value to be the value of 'i' within the current loop (loop within which we have reencountered a string element)\n",
    "# The 'start' variable essentially fulfills the same role as the 'counter' variable in my first version, except this time its\n",
    "# value is not defined by how many times we loop to reach an element for removal, but rather by the value associated with\n",
    "# a given element (key) we have reencountered (prior to updating the value, which we do later in the loop after having updated\n",
    "# the 'start' variable using the unupdated value)\n",
    "\n",
    "# Need 3 temporary variables to find the longest substring: start, maxLength,\n",
    "# and usedChars.\n",
    "# Start by walking through string of characters, one at a time.\n",
    "# Check if the current character is in the usedChars map, this would mean we\n",
    "# have already seen it and have stored it's corresponding index.\n",
    "# If it's in there and the start index is <= that index, update start\n",
    "# to the last seen duplicate's index+1. This will put the start index at just\n",
    "# past the current value's last seen duplicate. This allows us to have the\n",
    "# longest possible substring that does not contain duplicates.\n",
    "# If it's not in the usedChars map, we can calculate the longest substring\n",
    "# seen so far. Just take the current index minus the start index. If that\n",
    "# value is longer than maxLength, set maxLength to it.\n",
    "# Finally, update the usedChars map to contain the current value that we just\n",
    "# finished processing.\n",
    "\n",
    "    # @param 's': input string\n",
    "    # @returns 'MaxLength': length of the longest non-repeating substring within the input string\n",
    "    def lengthOfLongestSubstring(self, s: str) -> int:\n",
    "        dict_storage = {}\n",
    "        if len(s) < 1:\n",
    "            return 0\n",
    "        elif len(s) == 1:\n",
    "            return 1\n",
    "        else:\n",
    "            start = maxLength = 0\n",
    "\n",
    "            for i, y in enumerate(s):\n",
    "                if y in dict_storage and start <= dict_storage[y]:\n",
    "                    start = dict_storage[y] + 1\n",
    "                else:\n",
    "                    maxLength = max(maxLength, i-start + 1)\n",
    "                dict_storage[y] = i \n",
    "            return maxLength"
   ]
  },
  {
   "cell_type": "code",
   "execution_count": null,
   "id": "6a183cc6",
   "metadata": {},
   "outputs": [],
   "source": [
    "B"
   ]
  }
 ],
 "metadata": {
  "kernelspec": {
   "display_name": "Python 3 (ipykernel)",
   "language": "python",
   "name": "python3"
  },
  "language_info": {
   "codemirror_mode": {
    "name": "ipython",
    "version": 3
   },
   "file_extension": ".py",
   "mimetype": "text/x-python",
   "name": "python",
   "nbconvert_exporter": "python",
   "pygments_lexer": "ipython3",
   "version": "3.9.7"
  }
 },
 "nbformat": 4,
 "nbformat_minor": 5
}
