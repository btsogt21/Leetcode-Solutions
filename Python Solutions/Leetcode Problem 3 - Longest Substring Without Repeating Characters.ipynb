{
 "cells": [
  {
   "cell_type": "markdown",
   "id": "bc193d55",
   "metadata": {},
   "source": [
    "## Description\n",
    "Given a string s, find the length of the longest substring without repeating characters."
   ]
  },
  {
   "cell_type": "markdown",
   "id": "f1b72141",
   "metadata": {},
   "source": [
    "## Example 1\n",
    "\n",
    "Input: s = \"abcabcbb\"\n",
    "\n",
    "Output: 3\n",
    "\n",
    "Explanation: The answer is \"abc\", with the length of 3."
   ]
  },
  {
   "cell_type": "markdown",
   "id": "5734292f",
   "metadata": {},
   "source": [
    "## Example 2\n",
    "\n",
    "Input: s = \"bbbbb\"\n",
    "    \n",
    "Output: 1\n",
    "\n",
    "Explanation: The answer is \"b\", with the length of 1."
   ]
  },
  {
   "cell_type": "markdown",
   "id": "702541dd",
   "metadata": {},
   "source": [
    "## Example 3\n",
    "\n",
    "Input: s = \"pwwkew\"\n",
    "    \n",
    "Output: 3\n",
    "    \n",
    "Explanation: The answer is \"wke\", with the length of 3.\n",
    "    \n",
    "Notice that the answer must be a substring, \"pwke\" is a subsequence and not a substring."
   ]
  },
  {
   "cell_type": "markdown",
   "id": "cf7c392d",
   "metadata": {},
   "source": [
    "## Example 4\n",
    "\n",
    "Input: s = \"\"\n",
    "\n",
    "Output: 0"
   ]
  },
  {
   "cell_type": "markdown",
   "id": "da086b72",
   "metadata": {},
   "source": [
    "## Constraints\n",
    "\n",
    "0 <= s.length <= 5 * 104\n",
    "\n",
    "s consists of English letters, digits, symbols and spaces."
   ]
  },
  {
   "cell_type": "markdown",
   "id": "85e586b9",
   "metadata": {},
   "source": [
    "## Solution"
   ]
  },
  {
   "cell_type": "code",
   "execution_count": 1,
   "id": "0556e341",
   "metadata": {},
   "outputs": [],
   "source": [
    "from __future__ import annotations #this was imported so that I could use built in types as generics. \n",
    "# Only >3.9 versions of python can use built in types as generics without this import."
   ]
  },
  {
   "cell_type": "code",
   "execution_count": 2,
   "id": "2817767b",
   "metadata": {},
   "outputs": [],
   "source": [
    "# First accepted solution. This one was written without assistance.\n",
    "\n",
    "class Solution:\n",
    "    def lengthOfLongestSubstring(self, s: str) -> int:\n",
    "        counter = MaxLength = 0\n",
    "        dict_storage = set()\n",
    "        for i in range(len(s)):\n",
    "            while s[i] in dict_storage:\n",
    "                dict_storage.remove(s[counter])\n",
    "                counter += 1\n",
    "            dict_storage.add(s[i])\n",
    "            MaxLength = max(MaxLength, i - counter + 1)\n",
    "        return MaxLength"
   ]
  },
  {
   "cell_type": "code",
   "execution_count": 3,
   "id": "ae45be70",
   "metadata": {},
   "outputs": [],
   "source": [
    "# Second accepted solution. This one was written after consulting the discussion section of this problem on how to achieve\n",
    "# better time and space complexity. \n",
    "\n",
    "class Solution:\n",
    "    def lengthOfLongestSubstring(self, s: str) -> int:\n",
    "        dict_storage = {}\n",
    "        counter = 0\n",
    "        if len(s) < 1:\n",
    "            return 0\n",
    "        elif len(s) == 1:\n",
    "            return 1\n",
    "        else:\n",
    "            start = maxLength = 0\n",
    "\n",
    "            for i, y in enumerate(s):\n",
    "                if y in map and start <= map[y]:\n",
    "                    start = map[y] + 1\n",
    "                else:\n",
    "                    maxLength = max(maxLength, i-start + 1)\n",
    "                map[y] = i \n",
    "            return maxLength"
   ]
  },
  {
   "cell_type": "code",
   "execution_count": null,
   "id": "6a183cc6",
   "metadata": {},
   "outputs": [],
   "source": [
    "B"
   ]
  }
 ],
 "metadata": {
  "kernelspec": {
   "display_name": "Python 3",
   "language": "python",
   "name": "python3"
  },
  "language_info": {
   "codemirror_mode": {
    "name": "ipython",
    "version": 3
   },
   "file_extension": ".py",
   "mimetype": "text/x-python",
   "name": "python",
   "nbconvert_exporter": "python",
   "pygments_lexer": "ipython3",
   "version": "3.8.8"
  }
 },
 "nbformat": 4,
 "nbformat_minor": 5
}
