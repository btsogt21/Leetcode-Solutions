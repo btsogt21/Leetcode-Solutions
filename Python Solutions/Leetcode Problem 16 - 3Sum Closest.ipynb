{
 "cells": [
  {
   "cell_type": "markdown",
   "id": "98918ce7",
   "metadata": {},
   "source": [
    "## Description\n",
    "\n",
    "Given an integer array nums of length n and an integer target, find three integers in nums such that the sum is closest to target.\n",
    "\n",
    "Return the sum of the three integers.\n",
    "\n",
    "You may assume that each input would have exactly one solution.\n",
    "\n",
    "## Example 1:\n",
    "\n",
    "Input: nums = [-1,2,1,-4], target = 1\n",
    "\n",
    "Output: 2\n",
    "\n",
    "Explanation: The sum that is closest to the target is 2. (-1 + 2 + 1 = 2).\n",
    "\n",
    "## Example 2:\n",
    "\n",
    "Input: nums = [0,0,0], target = 1\n",
    "\n",
    "Output: 0\n",
    "    \n",
    "## Example 3:\n",
    "\n",
    "Input: nums = [0]\n",
    "    \n",
    "Output: []\n",
    "    \n",
    "## Constraints:\n",
    "\n",
    "3 <= nums.length <= 1000\n",
    "\n",
    "-1000 <= nums[i] <= 1000\n",
    "\n",
    "$-10^{4}$ <= target <= $10^{4}$"
   ]
  },
  {
   "cell_type": "code",
   "execution_count": 2,
   "id": "c5a26dc0",
   "metadata": {},
   "outputs": [],
   "source": [
    "from __future__ import annotations #this was imported so that I could use built in types as generics. \n",
    "# Only >3.9 versions of python can use built in types as generics without this import."
   ]
  },
  {
   "cell_type": "code",
   "execution_count": 3,
   "id": "43d06f4a",
   "metadata": {},
   "outputs": [],
   "source": [
    "# First solution I wrote. This one was written without assistance.\n",
    "\n",
    "# This problem was very similar to the previous problem, 3Sum. I essentially used the exact same structure since the conditions\n",
    "# for this problem were the same aside from the target being an input number instead of just 0 by default.\n",
    "# I adjusted it so that we're checking whether the distance between our current loop's total and the target is greater than the distance\n",
    "# between our currently recorded closest total and the target upon each while left<right loop. If we find a combination total equal\n",
    "# to the target, we return said total. If we don't find one at all, we just return the closest one we could find.\n",
    "\n",
    "class Solution:\n",
    "    def threeSumClosest(self, nums: List[int], target: int) -> int:\n",
    "        return_list = []\n",
    "        current_closest_total = 10000\n",
    "        nums.sort()\n",
    "        for i, y in enumerate(nums):\n",
    "            if i>0 and y == nums[i-1]:\n",
    "                continue\n",
    "            left, right = i + 1, len(nums) - 1\n",
    "            while left<right:\n",
    "                total = y + nums[left] + nums[right]\n",
    "                if abs(target - total)<abs(target-current_closest_total):\n",
    "                    current_closest_total = total\n",
    "                if total>target:\n",
    "                    right -=1\n",
    "                elif total<target:\n",
    "                    left +=1\n",
    "                else:\n",
    "                    return current_closest_total\n",
    "                    # left +=1\n",
    "                    # while nums[left] == nums[left-1] and left<right:\n",
    "                    #     left +=1\n",
    "        return current_closest_total\n",
    "# Time complexity should be O(n^2) where n is number of items in the input list. "
   ]
  },
  {
   "cell_type": "code",
   "execution_count": null,
   "id": "6c8e7e49",
   "metadata": {},
   "outputs": [],
   "source": []
  }
 ],
 "metadata": {
  "kernelspec": {
   "display_name": "Python 3",
   "language": "python",
   "name": "python3"
  },
  "language_info": {
   "codemirror_mode": {
    "name": "ipython",
    "version": 3
   },
   "file_extension": ".py",
   "mimetype": "text/x-python",
   "name": "python",
   "nbconvert_exporter": "python",
   "pygments_lexer": "ipython3",
   "version": "3.8.8"
  }
 },
 "nbformat": 4,
 "nbformat_minor": 5
}
