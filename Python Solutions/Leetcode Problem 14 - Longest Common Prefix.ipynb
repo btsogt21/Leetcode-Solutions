{
 "cells": [
  {
   "cell_type": "markdown",
   "id": "dc41560f",
   "metadata": {},
   "source": [
    "## Description\n",
    "\n",
    "Write a function to find the longest common prefix string amongst an array of strings.\n",
    "\n",
    "If there is no common prefix, return an empty string \"\".\n",
    "\n",
    "## Example 1:\n",
    "\n",
    "Input: strs = [\"flower\",\"flow\",\"flight\"]\n",
    "\n",
    "Output: \"fl\"\n",
    "\n",
    "## Example 2:\n",
    "\n",
    "Input: strs = [\"dog\",\"racecar\",\"car\"]\n",
    "\n",
    "Output: \"\"\n",
    "\n",
    "Explanation: There is no common prefix among the input strings.\n",
    "    \n",
    "## Constraints:\n",
    "\n",
    "1 <= strs.length <= 200\n",
    "\n",
    "0 <= strs[i].length <= 200\n",
    "\n",
    "strs[i] consists of only lower-case English letters."
   ]
  },
  {
   "cell_type": "code",
   "execution_count": 2,
   "id": "0c0d1fa4",
   "metadata": {},
   "outputs": [],
   "source": [
    "from __future__ import annotations #this was imported so that I could use built in types as generics. \n",
    "# Only >3.9 versions of python can use built in types as generics without this import."
   ]
  },
  {
   "cell_type": "code",
   "execution_count": 3,
   "id": "f3317526",
   "metadata": {},
   "outputs": [],
   "source": [
    "# First accepted solution. This one was written without assistance.\n",
    "# This one was pretty easy. Essentially we're just looping through each i-th position inside the first string in our 'strs' list\n",
    "# and comparing it to the same position in the rest of the strings in the list (also through a loop). If we find that our i-th\n",
    "# position is out of bounds for the current y-th string, or if we find that our i-th positions in the first string and the current\n",
    "# y-th string don't match, we return the return string as it is. If neither of those conditions are triggered, we just go ahead\n",
    "# and add to our return string the current i-th position of our first string (strs[0]).\n",
    "\n",
    "# If we reach the end without trigerring the if statements, then we just return the return string.\n",
    "\n",
    "class Solution:\n",
    "    def longestCommonPrefix(self, strs: List[str]) -> str:\n",
    "        return_str = \"\"\n",
    "        for i in range(len(strs[0])):\n",
    "            for y in strs:\n",
    "                if i >= len(y) or y[i]!= strs[0][i]:\n",
    "                    return return_str\n",
    "            return_str += strs[0][i]\n",
    "        return return_str\n",
    "    \n",
    "# Time complexity in the worst case would be O(n) where n is the total number of characters in all of our strings in the strs list. \n",
    "# Best case is O(n*len(smallest_string)) where n is the number of strings in our strs list and len(smallest_string) is the length\n",
    "# of the shortest string in our strs list.\n",
    "\n"
   ]
  },
  {
   "cell_type": "code",
   "execution_count": null,
   "id": "5333b539",
   "metadata": {},
   "outputs": [],
   "source": []
  }
 ],
 "metadata": {
  "kernelspec": {
   "display_name": "Python 3",
   "language": "python",
   "name": "python3"
  },
  "language_info": {
   "codemirror_mode": {
    "name": "ipython",
    "version": 3
   },
   "file_extension": ".py",
   "mimetype": "text/x-python",
   "name": "python",
   "nbconvert_exporter": "python",
   "pygments_lexer": "ipython3",
   "version": "3.8.8"
  }
 },
 "nbformat": 4,
 "nbformat_minor": 5
}
