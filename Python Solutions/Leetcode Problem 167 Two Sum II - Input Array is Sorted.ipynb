{
 "cells": [
  {
   "cell_type": "markdown",
   "id": "cd00bdba",
   "metadata": {},
   "source": [
    "## Description\n",
    "\n",
    "Given a 1-indexed array of integers numbers that is already sorted in non-decreasing order, find two numbers such that they add up to a specific target number. Let these two numbers be numbers[index1] and numbers[index2] where 1 <= index1 < index2 <= numbers.length.\n",
    "\n",
    "Return the indices of the two numbers, index1 and index2, added by one as an integer array [index1, index2] of length 2.\n",
    "\n",
    "The tests are generated such that there is exactly one solution. You may not use the same element twice.\n",
    "\n",
    "Your solution must use only constant extra space.\n",
    "\n",
    "\n",
    "## Example 1:\n",
    "\n",
    "Input: numbers = [2,7,11,15], target = 9\n",
    "\n",
    "Output: [1,2]\n",
    "\n",
    "Explanation: The sum of 2 and 7 is 9. Therefore, index1 = 1, index2 = 2.\n",
    "\n",
    "We return [1, 2].\n",
    "\n",
    "## Example 2:\n",
    "\n",
    "Input: numbers = [2,3,4], target = 6\n",
    "\n",
    "Output: [1,3]\n",
    "\n",
    "Explanation: The sum of 2 and 4 is 6. Therefore index1 = 1, index2 = 3. \n",
    "\n",
    "We return [1, 3].\n",
    "\n",
    "## Example 3:\n",
    "\n",
    "Input: numbers = [-1,0], target = -1\n",
    "\n",
    "Output: [1,2]\n",
    "\n",
    "Explanation: The sum of -1 and 0 is -1. Therefore index1 = 1, index2 = 2.\n",
    "\n",
    "We return [1, 2].\n",
    "\n",
    "## Constraints:\n",
    "\n",
    "2 <= numbers.length <= 3 * 10<sup>4\n",
    "\n",
    "-1000 <= numbers[i] <= 1000\n",
    "    \n",
    "numbers is sorted in non-decreasing order.\n",
    "    \n",
    "-1000 <= target <= 1000\n",
    "    \n",
    "The tests are generated such that there is exactly one solution."
   ]
  },
  {
   "cell_type": "code",
   "execution_count": 19,
   "id": "e0e4f5c0",
   "metadata": {},
   "outputs": [],
   "source": [
    "from __future__ import annotations #this was imported so that I could use built in types as generics. \n",
    "# Only >3.9 versions of python can use built in types as generics without this import."
   ]
  },
  {
   "cell_type": "code",
   "execution_count": 21,
   "id": "27649fdc",
   "metadata": {},
   "outputs": [],
   "source": [
    "# First accepted solution. Ordered list means binary search could be used.\n",
    "# Here, we use a binary search on each i-th integer in the numbers array\n",
    "# to search for the right combination to reach the target number.\n",
    "\n",
    "class Solution:\n",
    "    def twoSum(self, numbers: List[int], target: int) -> List[int]:\n",
    "        for i in range(len(numbers)):\n",
    "            l,r = i+1, len(numbers)-1\n",
    "            m = (l+r)//2\n",
    "            while l<=r:\n",
    "                if numbers[i] + numbers[m] == target:\n",
    "                    return[i+1, m+1]\n",
    "                elif numbers[i] + numbers[m] < target:\n",
    "                    l = m + 1\n",
    "                    m = (l+r)//2\n",
    "                else:\n",
    "                    r = m - 1\n",
    "                    m = (l+r)//2\n",
    "\n",
    "# Space complexity is constant\n",
    "\n",
    "# Time complexity should be O(log(n-i)) for each binary search where n is \n",
    "# the size of the 'numbers' array and i is the current iteration of the\n",
    "# for loop, starting at 0.\n",
    "# Binary search occurs each time the for loop iterates, and for loop will iterate\n",
    "# n number of times at most, so in all it should be \n",
    "# O(n*log(n-i)) ~ O(n*log(n))"
   ]
  },
  {
   "cell_type": "code",
   "execution_count": 17,
   "id": "df2a248a",
   "metadata": {},
   "outputs": [],
   "source": []
  },
  {
   "cell_type": "code",
   "execution_count": null,
   "id": "72b77237",
   "metadata": {},
   "outputs": [],
   "source": []
  },
  {
   "cell_type": "code",
   "execution_count": 18,
   "id": "58a86955",
   "metadata": {},
   "outputs": [],
   "source": []
  },
  {
   "cell_type": "code",
   "execution_count": null,
   "id": "6f9f2b39",
   "metadata": {},
   "outputs": [],
   "source": []
  }
 ],
 "metadata": {
  "kernelspec": {
   "display_name": "Python 3 (ipykernel)",
   "language": "python",
   "name": "python3"
  },
  "language_info": {
   "codemirror_mode": {
    "name": "ipython",
    "version": 3
   },
   "file_extension": ".py",
   "mimetype": "text/x-python",
   "name": "python",
   "nbconvert_exporter": "python",
   "pygments_lexer": "ipython3",
   "version": "3.9.7"
  }
 },
 "nbformat": 4,
 "nbformat_minor": 5
}
