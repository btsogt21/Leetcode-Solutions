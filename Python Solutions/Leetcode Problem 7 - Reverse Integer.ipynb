{
 "cells": [
  {
   "cell_type": "markdown",
   "id": "36ad534a",
   "metadata": {},
   "source": [
    "## Description\n",
    "\n",
    "Given a signed 32-bit integer x, return x with its digits reversed. If reversing x causes the value to go outside the signed 32-bit integer range [-231, 231 - 1], then return 0.\n",
    "\n",
    "Assume the environment does not allow you to store 64-bit integers (signed or unsigned).\n",
    "\n",
    "Difficulty: Medium"
   ]
  },
  {
   "cell_type": "markdown",
   "id": "e4da8796",
   "metadata": {},
   "source": [
    "## Example 1\n",
    "\n",
    "Input: x = 123\n",
    "\n",
    "Output: 321"
   ]
  },
  {
   "cell_type": "markdown",
   "id": "3786ec00",
   "metadata": {},
   "source": [
    "## Example 2\n",
    "\n",
    "Input: x = -123\n",
    "\n",
    "Output: -321"
   ]
  },
  {
   "cell_type": "markdown",
   "id": "7d771153",
   "metadata": {},
   "source": [
    "## Example 3\n",
    "\n",
    "Input: x = 120\n",
    "\n",
    "Output: 21"
   ]
  },
  {
   "cell_type": "markdown",
   "id": "b29b2955",
   "metadata": {},
   "source": [
    "## Example 4\n",
    "\n",
    "Input: x = 0\n",
    "\n",
    "Output: 21"
   ]
  },
  {
   "cell_type": "markdown",
   "id": "b982df13",
   "metadata": {},
   "source": [
    "## Constraints\n",
    "\n",
    "-231 <= x <= 231 - 1"
   ]
  },
  {
   "cell_type": "markdown",
   "id": "b3ee06e9",
   "metadata": {},
   "source": [
    "## Solution"
   ]
  },
  {
   "cell_type": "code",
   "execution_count": 1,
   "id": "1134c8c2",
   "metadata": {},
   "outputs": [],
   "source": [
    "from __future__ import annotations #this was imported so that I could use built in types as generics. \n",
    "# Only >3.9 versions of python can use built in types as generics without this import."
   ]
  },
  {
   "cell_type": "code",
   "execution_count": 3,
   "id": "2cb17b65",
   "metadata": {},
   "outputs": [],
   "source": [
    "# First accepted solution. This one was written without assistance.\n",
    "\n",
    "# This particular problem was not difficult whatsoever. I basically just utilized type casting and list slicing to reverse\n",
    "# an integer. I included a couple if statements to handle negative numbers (need to move the negative sign back front after \n",
    "# reversing the integer after it is cast to a string) and to handle cases in which the reversed integer is too large for a \n",
    "# 32 bit signed integer.\n",
    "\n",
    "class Solution:\n",
    "    def reverse(self, x: int) -> int:\n",
    "        s = x\n",
    "        x = str(x)[::-1]\n",
    "        if (s>=0):\n",
    "            x = int(x)\n",
    "        else:\n",
    "            x = -int(x[:-1])\n",
    "        if(x<(-2**(31)) or x>(2**(31)-1)):\n",
    "            return 0\n",
    "        else:\n",
    "            return x"
   ]
  },
  {
   "cell_type": "code",
   "execution_count": null,
   "id": "8afc68c3",
   "metadata": {},
   "outputs": [],
   "source": []
  }
 ],
 "metadata": {
  "kernelspec": {
   "display_name": "Python 3",
   "language": "python",
   "name": "python3"
  },
  "language_info": {
   "codemirror_mode": {
    "name": "ipython",
    "version": 3
   },
   "file_extension": ".py",
   "mimetype": "text/x-python",
   "name": "python",
   "nbconvert_exporter": "python",
   "pygments_lexer": "ipython3",
   "version": "3.8.8"
  }
 },
 "nbformat": 4,
 "nbformat_minor": 5
}
