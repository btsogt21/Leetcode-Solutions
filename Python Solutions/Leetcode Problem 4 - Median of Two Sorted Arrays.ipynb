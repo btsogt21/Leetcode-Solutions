{
 "cells": [
  {
   "cell_type": "markdown",
   "id": "270cbbe7",
   "metadata": {},
   "source": [
    "## Description\n",
    "\n",
    "Given two sorted arrays nums1 and nums2 of size m and n respectively, return the median of the two sorted arrays.\n",
    "\n",
    "Difficulty: Hard"
   ]
  },
  {
   "cell_type": "markdown",
   "id": "6775ab26",
   "metadata": {},
   "source": [
    "## Example 1\n",
    "\n",
    "Input: nums1 = [1,3], nums2 = [2]\n",
    "\n",
    "Output: 2.00000\n",
    "\n",
    "Explanation: merged array = [1,2,3] and median is 2."
   ]
  },
  {
   "cell_type": "markdown",
   "id": "22a6d58b",
   "metadata": {},
   "source": [
    "## Example 2\n",
    "\n",
    "Input: nums1 = [1,2], nums2 = [3,4]\n",
    "\n",
    "Output: 2.50000\n",
    "\n",
    "Explanation: merged array = [1,2,3,4] and median is (2 + 3) / 2 = 2.5."
   ]
  },
  {
   "cell_type": "markdown",
   "id": "7bd950e0",
   "metadata": {},
   "source": [
    "## Example 3\n",
    "\n",
    "Input: nums1 = [0,0], nums2 = [0,0]\n",
    "\n",
    "Output: 0.00000"
   ]
  },
  {
   "cell_type": "markdown",
   "id": "8f21b151",
   "metadata": {},
   "source": [
    "## Example 4\n",
    "\n",
    "Input: nums1 = [], nums2 = [1]\n",
    "\n",
    "Output: 1.00000"
   ]
  },
  {
   "cell_type": "markdown",
   "id": "de0499bb",
   "metadata": {},
   "source": [
    "## Example 5\n",
    "\n",
    "Input: nums1 = [2], nums2 = []\n",
    "\n",
    "Output: 2.00000"
   ]
  },
  {
   "cell_type": "markdown",
   "id": "0b9b3462",
   "metadata": {},
   "source": [
    "## Constraints\n",
    "\n",
    "$nums1.length == m$\n",
    "\n",
    "$nums2.length == n$\n",
    "\n",
    "$0 <= m <= 1000$\n",
    "\n",
    "$0 <= n <= 1000$\n",
    "\n",
    "$1 <= m + n <= 2000$\n",
    "\n",
    "$-10^{6} <= nums1[i], nums2[i] <= 10^{6}$"
   ]
  },
  {
   "cell_type": "markdown",
   "id": "85e586b9",
   "metadata": {},
   "source": [
    "## Solution"
   ]
  },
  {
   "cell_type": "code",
   "execution_count": 4,
   "id": "8d69ff51",
   "metadata": {},
   "outputs": [],
   "source": [
    "from __future__ import annotations #this was imported so that I could use built in types as generics. \n",
    "# Only >3.9 versions of python can use built in types as generics without this import."
   ]
  },
  {
   "cell_type": "code",
   "execution_count": 5,
   "id": "da118dc5",
   "metadata": {},
   "outputs": [],
   "source": [
    "# First accepted solution. This one was written without assistance.\n",
    "\n",
    "# This solution was fairly simple. I imported the statistics package and utilized its median function on the combination of the\n",
    "# two input lists.\n",
    "\n",
    "# @param 'nums1': First input sorted list.\n",
    "# @param 'nums2': Second input sorted list.\n",
    "# @returns: The median of the combination of the two input lists.\n",
    "import statistics\n",
    "class Solution:\n",
    "    def findMedianSortedArrays(self, nums1: List[int], nums2: List[int]) -> float:\n",
    "        return statistics.median(nums1+nums2)"
   ]
  },
  {
   "cell_type": "code",
   "execution_count": 6,
   "id": "2b3dd219",
   "metadata": {},
   "outputs": [],
   "source": [
    "# Second accepted solution. This one was written after consulting the discussion section of this problem on how to achieve\n",
    "# better time and space complexity.\n",
    "\n",
    "#This solution does not utilize any imports, instead opting to find the median of the combined list a bit more manually.\n",
    "\n",
    "# @param 'nums1': First input sorted list.\n",
    "# @param 'nums2': Second input sorted list.\n",
    "# @returns: The median of the combination of the two input lists.\n",
    "class Solution:\n",
    "    def findMedianSortedArrays(self, nums1: List[int], nums2: List[int]) -> float:\n",
    "        nums = nums1+ nums2\n",
    "        nums.sort()\n",
    "        l = len(nums)\n",
    "        if l % 2 == 0:\n",
    "            m = l//2\n",
    "            n = m-1\n",
    "            return ((nums[m]+nums[n])/2)\n",
    "        else:\n",
    "            return nums[l//2]"
   ]
  },
  {
   "cell_type": "code",
   "execution_count": null,
   "id": "64f58922",
   "metadata": {},
   "outputs": [],
   "source": []
  }
 ],
 "metadata": {
  "kernelspec": {
   "display_name": "Python 3",
   "language": "python",
   "name": "python3"
  },
  "language_info": {
   "codemirror_mode": {
    "name": "ipython",
    "version": 3
   },
   "file_extension": ".py",
   "mimetype": "text/x-python",
   "name": "python",
   "nbconvert_exporter": "python",
   "pygments_lexer": "ipython3",
   "version": "3.8.8"
  }
 },
 "nbformat": 4,
 "nbformat_minor": 5
}
