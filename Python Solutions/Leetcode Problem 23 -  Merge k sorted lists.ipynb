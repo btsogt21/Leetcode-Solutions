{
 "cells": [
  {
   "cell_type": "markdown",
   "id": "dd949264",
   "metadata": {},
   "source": [
    "## Description\n",
    "\n",
    "You are given an array of k linked-lists lists, each linked-list is sorted in ascending order.\n",
    "\n",
    "Merge all the linked-lists into one sorted linked-list and return it.\n",
    "\n",
    "## Example 1:\n",
    "\n",
    "Input: lists = [[1,4,5],[1,3,4],[2,6]]\n",
    "\n",
    "Output: [1,1,2,3,4,4,5,6]\n",
    "\n",
    "Explanation: The linked-lists are:\n",
    "[\n",
    "  1->4->5,\n",
    "  1->3->4,\n",
    "  2->6\n",
    "]\n",
    "\n",
    "merging them into one sorted list:\n",
    "\n",
    "1->1->2->3->4->4->5->6\n",
    "\n",
    "## Example 2:\n",
    "\n",
    "Input: lists = []\n",
    "\n",
    "Output: []\n",
    "\n",
    "## Example 3:\n",
    "\n",
    "Input: list1 = [], list2 = [0]\n",
    "\n",
    "Output: [0]\n",
    "    \n",
    "## Constraints:\n",
    "\n",
    "Input: lists = [[]]\n",
    "\n",
    "Output: []"
   ]
  },
  {
   "cell_type": "code",
   "execution_count": 58,
   "id": "8038ba1e",
   "metadata": {},
   "outputs": [],
   "source": [
    "from __future__ import annotations #this was imported so that I could use built in types as generics. \n",
    "# Only >3.9 versions of python can use built in types as generics without this import."
   ]
  },
  {
   "cell_type": "code",
   "execution_count": 65,
   "id": "f52b3977",
   "metadata": {},
   "outputs": [],
   "source": [
    "# First accepted solution, written without assistance. Essentially a brute force version of my solution for Leetcode 21 - Merge\n",
    "# Two Sorted Lists. I convert each linked list in the outer list into a regular list. I store these lists sequentially inside a \n",
    "# dictionary where the key is the index of the header for that list. Then, I concatenate the lists inside the dictionary, sort \n",
    "# the concatenated list, and then convert it back into a linked list. Then, I return the header of this linked list we just created.\n",
    "\n",
    "\n",
    "# Definition for singly-linked list.\n",
    "# class ListNode:\n",
    "#     def __init__(self, val=0, next=None):\n",
    "#         self.val = val\n",
    "#         self.next = next\n",
    "\n",
    "class Solution:\n",
    "    def mergeKLists(self, lists: List[Optional[ListNode]]) -> Optional[ListNode]:\n",
    "        if not lists: # Accounting for case where outer list is empty.\n",
    "            return None\n",
    "        dict_storage = {}\n",
    "        for count, i in enumerate(lists):\n",
    "            if not i: # Accounting for case where any of the linked lists in the outer list have a \n",
    "                continue\n",
    "            list_temp = []\n",
    "            list_temp.append(i.val)\n",
    "            while i.next:\n",
    "                i = i.next\n",
    "                list_temp.append(i.val)\n",
    "            dict_storage[count] = list_temp\n",
    "        return_list = sorted(sum(dict_storage.values(), []))\n",
    "        if not return_list:\n",
    "            return None\n",
    "        for i, y in enumerate(return_list):\n",
    "            if i!= 0:\n",
    "                a.next = ListNode(y)\n",
    "                a = a.next\n",
    "            else:\n",
    "                a = ListNode(y)\n",
    "                b = a\n",
    "        return b    "
   ]
  },
  {
   "cell_type": "code",
   "execution_count": 60,
   "id": "1e2f51d1",
   "metadata": {},
   "outputs": [],
   "source": [
    "# Code past this point has to do with building a tester similar to that on leetcode"
   ]
  },
  {
   "cell_type": "code",
   "execution_count": 61,
   "id": "2f54e1e8",
   "metadata": {},
   "outputs": [],
   "source": [
    "class ListNode:\n",
    "    def __init__(self, val=0, next=None):\n",
    "        self.val = val\n",
    "        self.next = next"
   ]
  },
  {
   "cell_type": "code",
   "execution_count": 62,
   "id": "782833d5",
   "metadata": {},
   "outputs": [],
   "source": [
    "def create_linked_list(input_list):    \n",
    "    for i, y in enumerate(input_list):\n",
    "        if i!= 0:\n",
    "            a.next = ListNode(y)\n",
    "            a = a.next\n",
    "        else:\n",
    "            a = ListNode(y)\n",
    "            b = a\n",
    "    return b"
   ]
  },
  {
   "cell_type": "code",
   "execution_count": 63,
   "id": "120c4266",
   "metadata": {},
   "outputs": [],
   "source": [
    "test_header_1 = create_linked_list([1, 4, 5])"
   ]
  },
  {
   "cell_type": "code",
   "execution_count": 44,
   "id": "414073d4",
   "metadata": {},
   "outputs": [],
   "source": [
    "test_header_2 = create_linked_list([1, 3, 4])\n",
    "test_header_3 = create_linked_list([2, 6])"
   ]
  },
  {
   "cell_type": "code",
   "execution_count": 45,
   "id": "6e895f10",
   "metadata": {},
   "outputs": [],
   "source": [
    "test_list = [test_header_1, test_header_2, test_header_3]"
   ]
  },
  {
   "cell_type": "code",
   "execution_count": 46,
   "id": "2565bdd6",
   "metadata": {},
   "outputs": [
    {
     "name": "stdout",
     "output_type": "stream",
     "text": [
      "[<__main__.ListNode object at 0x000002C7C3881FD0>, <__main__.ListNode object at 0x000002C7C3881610>, <__main__.ListNode object at 0x000002C7C3881370>]\n"
     ]
    }
   ],
   "source": [
    "print(test_list)"
   ]
  },
  {
   "cell_type": "code",
   "execution_count": 50,
   "id": "f0e7f95d",
   "metadata": {},
   "outputs": [
    {
     "name": "stdout",
     "output_type": "stream",
     "text": [
      "[1, 1, 2, 3, 4, 4, 5, 6]\n"
     ]
    }
   ],
   "source": [
    "m = mergeKLists(test_list)"
   ]
  },
  {
   "cell_type": "code",
   "execution_count": 53,
   "id": "5b85e5bd",
   "metadata": {},
   "outputs": [
    {
     "data": {
      "text/plain": [
       "<__main__.ListNode at 0x2c7c38812e0>"
      ]
     },
     "execution_count": 53,
     "metadata": {},
     "output_type": "execute_result"
    }
   ],
   "source": [
    "m.next"
   ]
  },
  {
   "cell_type": "code",
   "execution_count": null,
   "id": "6ca37f4c",
   "metadata": {},
   "outputs": [],
   "source": []
  }
 ],
 "metadata": {
  "kernelspec": {
   "display_name": "Python 3",
   "language": "python",
   "name": "python3"
  },
  "language_info": {
   "codemirror_mode": {
    "name": "ipython",
    "version": 3
   },
   "file_extension": ".py",
   "mimetype": "text/x-python",
   "name": "python",
   "nbconvert_exporter": "python",
   "pygments_lexer": "ipython3",
   "version": "3.8.8"
  }
 },
 "nbformat": 4,
 "nbformat_minor": 5
}
