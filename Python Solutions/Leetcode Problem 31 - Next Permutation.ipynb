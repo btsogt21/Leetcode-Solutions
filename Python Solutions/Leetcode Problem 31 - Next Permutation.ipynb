{
 "cells": [
  {
   "cell_type": "markdown",
   "id": "a8a45623",
   "metadata": {},
   "source": [
    "## Description\n",
    "\n",
    "A permutation of an array of integers is an arrangement of its members into a sequence or linear order.\n",
    "\n",
    "For example, for arr = [1,2,3], the following are considered permutations of arr: [1,2,3], [1,3,2], [3,1,2], [2,3,1].\n",
    "\n",
    "The next permutation of an array of integers is the next lexicographically greater permutation of its integer. More formally, if all the permutations of the array are sorted in one container according to their lexicographical order, then the next permutation of that array is the permutation that follows it in the sorted container. If such arrangement is not possible, the array must be rearranged as the lowest possible order (i.e., sorted in ascending order).\n",
    "\n",
    "For example, the next permutation of arr = [1,2,3] is [1,3,2].\n",
    "\n",
    "Similarly, the next permutation of arr = [2,3,1] is [3,1,2].\n",
    "\n",
    "While the next permutation of arr = [3,2,1] is [1,2,3] because [3,2,1] does not have a lexicographical larger rearrangement.\n",
    "\n",
    "Given an array of integers nums, find the next permutation of nums.\n",
    "\n",
    "The replacement must be in place and use only constant extra memory.\n",
    "\n",
    "\n",
    "## Example 1:\n",
    "\n",
    "Input: nums = [1,2,3]\n",
    "\n",
    "Output: [1,3,2]\n",
    "\n",
    "## Example 2:\n",
    "\n",
    "Input: nums = [3,2,1]\n",
    "\n",
    "Output: [1,2,3]\n",
    "\n",
    "## Example 3:\n",
    "\n",
    "Input: nums = [1,1,5]\n",
    "\n",
    "Output: [1,5,1]\n",
    "\n",
    "## Constraints:\n",
    "\n",
    "1 <= nums.length <= 100\n",
    "0 <= nums[i] <= 100"
   ]
  },
  {
   "cell_type": "code",
   "execution_count": 115,
   "id": "5b6551d4",
   "metadata": {},
   "outputs": [],
   "source": [
    "from __future__ import annotations #this was imported so that I could use built in types as generics. \n",
    "# Only >3.9 versions of python can use built in types as generics without this import."
   ]
  },
  {
   "cell_type": "code",
   "execution_count": 117,
   "id": "692fb219",
   "metadata": {},
   "outputs": [],
   "source": [
    "# First accepted solution. Written without assistance. This problem was a little difficult to figure out in terms of the best\n",
    "# method to use. My initial attempts kept trying to adjust only the left pointer as such:\n",
    "\n",
    "# 1 2 3 4 (nums)\n",
    "#     L R\n",
    "# 3 is smaller than 4\n",
    "# 1 2 4 3\n",
    "#     L R\n",
    "# 4 is not smaller than 3\n",
    "# 1 2 4 3\n",
    "#   L   R\n",
    "# 2 is smaller than 3\n",
    "# 1 3 4 2\n",
    "#     L R\n",
    "# 4 is not smaller than 2\n",
    "# 1 3 4 2\n",
    "#   L   R\n",
    "\n",
    "# Realized this might not work once I couldn't find a convenient way to account for the fact that, after switching the 3 and the\n",
    "# 2, I still need to switch the 4 and the 2 to get the correct next permutation.\n",
    "\n",
    "# Then, I switched to the following solution where the left and right pointer grow in conjunction as such:\n",
    "\n",
    "# 1 2 3 4\n",
    "#     L R\n",
    "# 3 is <4\n",
    "# find smallest element in nums[R:len(nums)-1] that is still greater than nums[L] and swap it with nums[L] and swap nums[L] with\n",
    "# it, then reverse in-place that which is left in [R:len(nums)-1]. return resultant nums.\n",
    "\n",
    "# 1 2 4 3\n",
    "#     L R\n",
    "# 4 is not <3\n",
    "\n",
    "# 1 2 4 3\n",
    "#   L R      - This is what I mean by the left and right pointers grow in conjunction\n",
    "# 2 is <4\n",
    "\n",
    "# find smallest element in nums[R:len(nums)-1] that is still greater than nums[L] and swap it with nums[L] and swap nums[L] with\n",
    "# it, then reverse in-place that which is left in [R:len(nums)-1]. return resultant nums.\n",
    "# 1 3 2 4\n",
    "\n",
    "# and so forth.\n",
    "\n",
    "# Time complexity should be influenced by:\n",
    "\n",
    "# First while loop: ends when l>=0 OR if the first if condition is met, which means that it is dependent on both the length of \n",
    "# the input list 'nums' (n) as well as the position of the first occurrence where the nums value for a given left pointer is less\n",
    "# than the nums value for a given right pointer (or more accurately, the number of iterations needed to reach that position using\n",
    "# the left and right pointers where the left and right pointers are len(nums)-2 and len(nums)-1 respectively. As such, \n",
    "# time complexity should be O(k) where k is the number of iterations before we reach a situation where nums[l]<nums[r], which\n",
    "# should be indicated by the difference between r and len(nums). Or, in other words, best case is O(1) and worst case is O(n)\n",
    "# where n is the number of items within the input list 'nums'.\n",
    "\n",
    "# for loop: nested within while loop but should only trigger once because the if that triggers this loop also has a \n",
    "# return statement that ends the while loop., iterates from right pointer to end of input list 'nums'. This means that in the \n",
    "# best-case (where the nums[l] < nums[r] condition is met immediately) it is O(1) because than it just has to iterate through\n",
    "# range(len(nums)-1, len(nums)) which is literally just a single iteration. In the worst case, it would be O(n) where n is the \n",
    "# size of the input list. This is the case where the nums[l]<nums[r] condition was met at the very last possible left right pointer\n",
    "# pair. \n",
    "\n",
    "# Second while loop: nested within the same while loop as the for loop. Best case should be O(1). This is the case where\n",
    "# the nums[l]<nums[r] condition triggers at the second earliest possible time (second left and right pointer pair) which means \n",
    "# that l_2 and r_2 will have a difference of just 1, causing the while loop to execute only once. Worst case would be O(n) for\n",
    "# similar reasoning: the nums[l]<nums[r] condition triggers at the very last possible l and r pair.\n",
    "\n",
    "# The two nested loops will only ever run once because they are placed within an if statement that should kill the parent\n",
    "# while loop upon its completion. As such, time complexity should be O(n) + O(n) + O(n), leading to overall time complexity of\n",
    "# O(n)\n",
    "\n",
    "# Space complexity should be constant, or O(1)\n",
    "\n",
    "O(n)\n",
    "O(1)\n",
    "\n",
    "class Solution:\n",
    "    def nextPermutation(self, nums: List[int]) -> None:\n",
    "        \"\"\"\n",
    "        Do not return anything, modify nums in-place instead.\n",
    "        \"\"\"\n",
    "        l = len(nums) -2\n",
    "        while l>=0:\n",
    "            r = l+1\n",
    "            if nums[l]<nums[r]:\n",
    "                curr = 10000000\n",
    "                for x in range(r, len(nums)):\n",
    "                    if nums[x]>nums[l] and nums[x]<=curr:\n",
    "                        curr = nums[x]\n",
    "                        y = x\n",
    "                temp = nums[l]\n",
    "                nums[l] = curr\n",
    "                nums[y] = temp\n",
    "                \n",
    "                r_2 = len(nums) - 1\n",
    "                l_2 = r\n",
    "                while l_2<r_2: # O(N)\n",
    "                    temp_2 = nums[l_2]\n",
    "                    nums[l_2] = nums[r_2]\n",
    "                    nums[r_2] = temp_2\n",
    "                    l_2+=1\n",
    "                    r_2-=1\n",
    "                return nums\n",
    "            else:\n",
    "                l-=1\n",
    "        return nums.reverse()"
   ]
  },
  {
   "cell_type": "code",
   "execution_count": 37,
   "id": "01f71690",
   "metadata": {},
   "outputs": [],
   "source": [
    "test_arr[3] = test_arr[2]"
   ]
  },
  {
   "cell_type": "code",
   "execution_count": 38,
   "id": "36db7e0a",
   "metadata": {},
   "outputs": [],
   "source": [
    "test_arr[2] = temp"
   ]
  },
  {
   "cell_type": "code",
   "execution_count": 39,
   "id": "dd75c25b",
   "metadata": {},
   "outputs": [
    {
     "data": {
      "text/plain": [
       "8"
      ]
     },
     "execution_count": 39,
     "metadata": {},
     "output_type": "execute_result"
    }
   ],
   "source": [
    "temp"
   ]
  },
  {
   "cell_type": "code",
   "execution_count": 40,
   "id": "9bda0893",
   "metadata": {},
   "outputs": [
    {
     "data": {
      "text/plain": [
       "6"
      ]
     },
     "execution_count": 40,
     "metadata": {},
     "output_type": "execute_result"
    }
   ],
   "source": [
    "len(test_arr)"
   ]
  },
  {
   "cell_type": "code",
   "execution_count": 41,
   "id": "c3407f43",
   "metadata": {},
   "outputs": [
    {
     "name": "stdout",
     "output_type": "stream",
     "text": [
      "4\n",
      "5\n"
     ]
    }
   ],
   "source": [
    "for i in range(4, len(test_arr)):\n",
    "    print(i)"
   ]
  },
  {
   "cell_type": "code",
   "execution_count": 110,
   "id": "08570d63",
   "metadata": {},
   "outputs": [],
   "source": [
    "test_arr = [3, 5, 6, 8, 10, 23, 30, 31]"
   ]
  },
  {
   "cell_type": "code",
   "execution_count": 111,
   "id": "025875a9",
   "metadata": {},
   "outputs": [
    {
     "data": {
      "text/plain": [
       "[3, 5, 6, 8, 10, 23, 30, 31]"
      ]
     },
     "execution_count": 111,
     "metadata": {},
     "output_type": "execute_result"
    }
   ],
   "source": [
    "test_arr"
   ]
  },
  {
   "cell_type": "code",
   "execution_count": 112,
   "id": "0e681c2c",
   "metadata": {},
   "outputs": [
    {
     "name": "stdout",
     "output_type": "stream",
     "text": [
      "7\n"
     ]
    }
   ],
   "source": [
    "l_2 = l = 1\n",
    "r_2 = len(test_arr)-1\n",
    "print(r_2)"
   ]
  },
  {
   "cell_type": "code",
   "execution_count": 113,
   "id": "75e1b17f",
   "metadata": {},
   "outputs": [
    {
     "name": "stdout",
     "output_type": "stream",
     "text": [
      "1 7\n",
      "2 6\n",
      "3 5\n"
     ]
    }
   ],
   "source": [
    "while r_2>l_2:\n",
    "    print(l_2, r_2)\n",
    "    curr = max(test_arr[l_2], [r_2])\n",
    "    temp = test_arr[l_2]\n",
    "    test_arr[l_2] = test_arr[r_2]\n",
    "    test_arr[r_2] = temp\n",
    "    l_2 +=1\n",
    "    r_2 -=1"
   ]
  },
  {
   "cell_type": "code",
   "execution_count": 114,
   "id": "2159b634",
   "metadata": {},
   "outputs": [
    {
     "data": {
      "text/plain": [
       "[3, 31, 30, 23, 10, 8, 6, 5]"
      ]
     },
     "execution_count": 114,
     "metadata": {},
     "output_type": "execute_result"
    }
   ],
   "source": [
    "test_arr"
   ]
  },
  {
   "cell_type": "code",
   "execution_count": 120,
   "id": "4fc9d332",
   "metadata": {},
   "outputs": [
    {
     "data": {
      "text/plain": [
       "[3, 31, 30, 23, 10, 8, 6]"
      ]
     },
     "execution_count": 120,
     "metadata": {},
     "output_type": "execute_result"
    }
   ],
   "source": [
    "test_arr[0:len(test_arr)-1]"
   ]
  },
  {
   "cell_type": "code",
   "execution_count": null,
   "id": "aabb4beb",
   "metadata": {},
   "outputs": [],
   "source": []
  }
 ],
 "metadata": {
  "kernelspec": {
   "display_name": "Python 3",
   "language": "python",
   "name": "python3"
  },
  "language_info": {
   "codemirror_mode": {
    "name": "ipython",
    "version": 3
   },
   "file_extension": ".py",
   "mimetype": "text/x-python",
   "name": "python",
   "nbconvert_exporter": "python",
   "pygments_lexer": "ipython3",
   "version": "3.8.8"
  }
 },
 "nbformat": 4,
 "nbformat_minor": 5
}
