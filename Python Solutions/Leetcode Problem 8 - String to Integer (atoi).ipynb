{
 "cells": [
  {
   "cell_type": "markdown",
   "id": "e30f5f29",
   "metadata": {},
   "source": [
    "## Description\n",
    "\n",
    "Implement the myAtoi(string s) function, which converts a string to a 32-bit signed integer (similar to C/C++'s atoi function).\n",
    "\n",
    "The algorithm for myAtoi(string s) is as follows:\n",
    "\n",
    "    1. Read in and ignore any leading whitespace.\n",
    "    \n",
    "    2. Check if the next character (if not already at the end of the string) is '-' or '+'. Read this character in if it is either. This determines if the final result is negative or positive respectively. Assume the result is positive if neither is present.\n",
    "    \n",
    "    3. Read in next the characters until the next non-digit character or the end of the input is reached. The rest of the string is ignored.\n",
    "    \n",
    "    4. Convert these digits into an integer (i.e. \"123\" -> 123, \"0032\" -> 32). If no digits were read, then the integer is 0. Change the sign as necessary (from step 2).\n",
    "    \n",
    "    5. If the integer is out of the 32-bit signed integer range [-231, 231 - 1], then clamp the integer so that it remains in the range. Specifically, integers less than -231 should be clamped to -231, and integers greater than 231 - 1 should be clamped to 231 - 1.\n",
    "    \n",
    "    6. Return the integer as the final result.\n",
    "    \n",
    "Note:\n",
    "\n",
    "    - Only the space character ' ' is considered a whitespace character.\n",
    "    \n",
    "    - Do not ignore any characters other than the leading whitespace or the rest of the string after the digits.\n",
    "    \n",
    "Difficulty: Medium"
   ]
  },
  {
   "cell_type": "markdown",
   "id": "9fe06f14",
   "metadata": {},
   "source": [
    "## Solution"
   ]
  },
  {
   "cell_type": "code",
   "execution_count": 1,
   "id": "ef722c47",
   "metadata": {},
   "outputs": [],
   "source": [
    "from __future__ import annotations #this was imported so that I could use built in types as generics. \n",
    "# Only >3.9 versions of python can use built in types as generics without this import."
   ]
  },
  {
   "cell_type": "code",
   "execution_count": 2,
   "id": "f7e184d3",
   "metadata": {},
   "outputs": [],
   "source": [
    "# First accepted solution. This one was written without assistance.\n",
    "\n",
    "# The approach to this problem was fairly straightforward given Python's built in functions. The first step was to strip the \n",
    "# input string of any leading whitespaces with the .strip() function (O(n)). Then, I declare an empty storage string and attempt\n",
    "# to check whether the first digit of the stripped string is a digit (through .isdigit(), O(1) in our case since s[0] is just\n",
    "# a single character string), is the positive sign, or is the negative sign. If the first character is a digit, we store append it\n",
    "# to our storage string and set our negative variable to false. If the first character is the positive sign, we set negative to false,\n",
    "# and if the first character is the negative sign, we set the negative variable to True. \n",
    "# If we throw an error when trying to check the first character, we assume that the input string is empty and return 0.\n",
    "\n",
    "# After the above steps, we move onto checking the rest of the string for digits until we encounter a non digit character. \n",
    "# we do this by looping through the string starting from the 1st index (since we already passed the 0th). We utilize the isdigit()\n",
    "# function on each i-th character in the string until we find a non digit character, at which point we exit the loop. We then check\n",
    "# if the storage string is empty, returning 0 if it is, and in the case that it is not, we cast the storage string into an int and\n",
    "# apply the negative modifier if the negative variable is set to True. Finally, we check if the storage string, now an int, is within\n",
    "# the 32-bit signed integer range. If the return int is greater than or less than the upper or lower bounds of the range respectively,\n",
    "# we default to whichever end of the range is closest to the return int. If not, we just return the return int as it is. \n",
    "\n",
    "# Time complexity should be O(n), where n is the size of the input string. strip() function is O(n), the try except clause \n",
    "# should be O(1), the for loop should be O(n), and the type casting from string to int should also be O(n). Everything else should be\n",
    "# constant time. Alltogether, leads to O(n) overall time complexity for the full algorithm. \n",
    "\n",
    "class Solution:\n",
    "    def myAtoi(self, s: str) -> int:\n",
    "        s = s.strip()\n",
    "        storage = ''\n",
    "        try:\n",
    "            if s[0].isdigit():\n",
    "                    storage = storage + s[0]\n",
    "                    negative = False\n",
    "            elif s[0] == '+':\n",
    "                negative = False\n",
    "            elif s[0] == '-':\n",
    "                negative = True\n",
    "            else:\n",
    "                return 0\n",
    "        except:\n",
    "            return 0\n",
    "        for i in range(1, len(s)):\n",
    "            if s[i].isdigit():\n",
    "                storage = storage + s[i]\n",
    "            else:\n",
    "                break\n",
    "        if storage == '':\n",
    "            return 0\n",
    "        else:\n",
    "            s_int = int(storage) if negative == False else -int(storage)\n",
    "            return max(-2**31, min((2**31-1), s_int))"
   ]
  },
  {
   "cell_type": "code",
   "execution_count": null,
   "id": "9dc1d1b2",
   "metadata": {},
   "outputs": [],
   "source": []
  }
 ],
 "metadata": {
  "kernelspec": {
   "display_name": "Python 3",
   "language": "python",
   "name": "python3"
  },
  "language_info": {
   "codemirror_mode": {
    "name": "ipython",
    "version": 3
   },
   "file_extension": ".py",
   "mimetype": "text/x-python",
   "name": "python",
   "nbconvert_exporter": "python",
   "pygments_lexer": "ipython3",
   "version": "3.8.8"
  }
 },
 "nbformat": 4,
 "nbformat_minor": 5
}
