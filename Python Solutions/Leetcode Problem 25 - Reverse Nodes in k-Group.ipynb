{
 "cells": [
  {
   "attachments": {
    "reverse_ex1.jpg": {
     "image/jpeg": "[encoded data removed]"
    }
   },
   "cell_type": "markdown",
   "id": "eedc698f",
   "metadata": {},
   "source": [
    "## Description\n",
    "\n",
    "You are given an array of k linked-lists lists, each linked-list is sorted in ascending order.\n",
    "\n",
    "Merge all the linked-lists into one sorted linked-list and return it.\n",
    "\n",
    "## Example 1:\n",
    "\n",
    "![reverse_ex1.jpg](attachment:reverse_ex1.jpg)\n",
    "\n",
    "Input: head = [1,2,3,4,5], k = 2\n",
    "\n",
    "Output: [2,1,4,3,5]\n",
    "\n",
    "## Example 2:\n",
    "\n",
    "![reverse_ex2.jpg](reverse_ex2.jpg)\n",
    "\n",
    "Input: head = [1,2,3,4,5], k = 3\n",
    "\n",
    "Output: [3,2,1,4,5]\n",
    "\n",
    "## Constraints:\n",
    "\n",
    "The number of nodes in the list is n.\n",
    "\n",
    "1 <= k <= n <= 5000\n",
    "\n",
    "0 <= Node.val <= 1000"
   ]
  },
  {
   "cell_type": "code",
   "execution_count": 300,
   "id": "580f2a9c",
   "metadata": {},
   "outputs": [],
   "source": [
    "from __future__ import annotations #this was imported so that I could use built in types as generics. \n",
    "# Only >3.9 versions of python can use built in types as generics without this import."
   ]
  },
  {
   "cell_type": "code",
   "execution_count": 314,
   "id": "954a87ae",
   "metadata": {},
   "outputs": [],
   "source": [
    "# First accepted solution. Written without assistance. This problem wasn't particularly hard either. Just had to think through it\n",
    "# a bit. \n",
    "\n",
    "# Here, I solve the problem at hand utilizing a helper method. This helper method essentially takes in a given node and k pair, \n",
    "# stores the node in a list, reverses said list, and moves onto the next node using node.next k number of times, making sure to\n",
    "# store each of the nodes\n",
    "# we go over. For example, if k = 2 and the starting linked list looks like 0, 1, 2, 3, 4, the method will store the nodes for 0\n",
    "# and 1 in a list, reverse said list, and store said list in another container list. At this point, the node that was taken in originally has advanced\n",
    "# forward by k number of nodes (if k = 2 and node = 0 to start, node = 2 by the end of the method, or if k = 3 and node = 1 to\n",
    "# start, node = 4 by the end of the method). We return this node along with a True or False, which depends on whether size reached\n",
    "# 0 or not during the current iteration of the helper method. The reason we want to return True when size does reach 0 and False\n",
    "# when size doesn't reach 0 is because this indicates to the 'reverseKgroup' method whether or not to continue iterating the\n",
    "# helper method. We know that if size never reaches 0, we've reached a point in the linked list where we cannot pull anymore k \n",
    "# sized tidbits out of it. Thus, it wouldn't make sense to keep running the helper method. At this point, we have a container list\n",
    "# housing its own lists. These sub-lists contain the reversed, k-sized 'tidbits' we pulled out of the linked list one by one\n",
    "# using our helper method. Each of these tidbits are already self-contained linked lists. That is, if a tidbit looks like [1, 0],\n",
    "# (such as the first extractable tidbit in the case where input linked list = [0, 1, 2, 3, 4] and k = 2), the node containing 1\n",
    "# already has it's next node set to the node containing 0. However, the final node in any tidbit (the node containing 0, in our\n",
    "# example from the previous sentence) does not point towards any next node. The rest of the reverseKgroup method is dedicated to\n",
    "# connecting the final nodes in each tidbit (except the final one) to the first node of the subsequent tidbit. As for the final\n",
    "# node of the final tidbit, we just go ahead and connect it to the last returned node from the helper method. This last returned\n",
    "# node, due to the way the helper method functions, will always be the first node out of the rest of the nodes left in the linked\n",
    "# list that did not number enough to become a k sized tidbit. Then, we return the first node in the first sublist in our container\n",
    "# list, which should be our new head node. \n",
    "\n",
    "class Solution:\n",
    "    def __init__(self):\n",
    "        self.container = []\n",
    "    def reversecurrent(self, size, node):\n",
    "        temp = []\n",
    "        dummy_node = node\n",
    "        while size!=0 and node:\n",
    "            temp.append(node)\n",
    "            try:\n",
    "                node = node.next\n",
    "            except:\n",
    "                break\n",
    "            size-=1\n",
    "        if size!=0:\n",
    "            return False, dummy_node# we can no longer divide what's left of the linked list into k sized tidbits. We know this\n",
    "        # because if we were able to keep taking out k sized tidbits, size would == 0 by the time the while loop immediately prior\n",
    "        # finished running. The loop breaks because node.next stops working at some point within said loop, not because size became\n",
    "        # equal to zero. \n",
    "        temp = temp[::-1]\n",
    "        for i, y in enumerate(temp):\n",
    "            try:\n",
    "                y.next = temp[i+1]\n",
    "            except:\n",
    "                break\n",
    "        self.container.append(temp)\n",
    "        return True, node\n",
    "    def reverseKGroup(self, head: Optional[ListNode], k: int) -> Optional[ListNode]:\n",
    "        while True:\n",
    "            y, head = self.reversecurrent(k, head)\n",
    "            if not y:\n",
    "                break\n",
    "        for i, y in enumerate(self.container):\n",
    "            try:\n",
    "                y[-1].next = self.container[i+1][0]\n",
    "            except:\n",
    "                self.container[i][-1].next = head\n",
    "        return_node = self.container[0][0]\n",
    "        return return_node\n",
    "\n",
    "# Time complexity should depend on both the length of the linked list as well as the size of k:\n",
    "\n",
    "# reversecurrent() time complexity depends on the size of k purely. THe first while loop will execute at most k number of times.\n",
    "# Its operations are all constant time, so overall the loop is O(k).\n",
    "# The list reversal will take O(n) where n is the number of items within the list. Since the number of items in the list will always\n",
    "# be of size k, it is actually O(k) as well. The for loop will execute k-1 times at most, and its operations are constant time as well,\n",
    "# so it is also O(k). Thus, overall, reversecurrent() method is O(k) + O(k) + O(k) = O(k).\n",
    "\n",
    "# reverseKGroup() time complexity will depend on number of nodes in the linked list (we will call this n), as well as the size \n",
    "# of k. The first while loop will run as many times as k will fit inside n, so n//k times. Each time it is ran, it executes\n",
    "# reversecurrent() which has a time complexity of O(k). Thus, overall, the while loop has time complexity of O(n//k)*O(k), or\n",
    "# O(n), where n is the number of nodes in the linked list. The for loop will run l number of times where l is the number of items in\n",
    "# self.container. Self.container will be populated a total of n//k times, thus the for loop will run n//k number of times. Its\n",
    "# operations are of constant time as well, thereby making the for loop O(n//k) overall. Thus, reverseKgroup() overall is\n",
    "# O(n) + O(n//k) ~ O(n) in runtime where n is the number of nodes in the linked list. "
   ]
  },
  {
   "cell_type": "code",
   "execution_count": 2,
   "id": "7ae62b46",
   "metadata": {},
   "outputs": [],
   "source": [
    "# Second accepted solution. Written with outside assistance. \n",
    "\n",
    "# I wanted to complete this particular problem without the usage of the container lists and the python list reversal. In order to\n",
    "# accomplish this, I basically keep track of the beginning and end of each subsequent k-sized slice of the linked list utilizing\n",
    "# a helper method (that uses k and a pointer to the beginning of a slice to find the tail end of the slice) and a while loop. \n",
    "# Each time the while loop runs, we find the beginning of the next slice (which is also the end of our current slice), \n",
    "# update its pointer, reverse the nodes between the pointer to the end of the previous slice (which is also the beginning of our\n",
    "# current slice) and the pointer to the beginning of the next slice using a nested while loop, then update the pointer to the \n",
    "# end of the previous slice to be the end of our current slice (which is also the beginning of the next slice). This will run until\n",
    "# we have reversed each k groups inside the linked list. The helper method here is quite similar to the mechanism in the helper\n",
    "# method of our first solution that we used to extract a k-sized tidbit from the linked list\n",
    "# The explanation above is a lot clearer when you look at the variable names in the solution:\n",
    "\n",
    "# Definition for singly-linked list.\n",
    "# class ListNode:\n",
    "#     def __init__(self, val=0, next=None):\n",
    "#         self.val = val\n",
    "#         self.next = next\n",
    "class Solution:\n",
    "    def findtail(self, node, size):\n",
    "        while node and size>0:\n",
    "            node = node.next\n",
    "            size -=1\n",
    "        return node\n",
    "    def reverseKGroup(self, head: Optional[ListNode], k: int) -> Optional[ListNode]:\n",
    "        dummy_node = ListNode(0, head)\n",
    "        end_of_prev_slice = dummy_node\n",
    "        while True:\n",
    "            kth_position = self.findtail(end_of_prev_slice, k)\n",
    "            if not kth_position:\n",
    "                break\n",
    "            beginning_of_next_slice = kth_position.next\n",
    "            current, prior = end_of_prev_slice.next, kth_position.next\n",
    "            while current!=beginning_of_next_slice:\n",
    "                storage = current.next\n",
    "                current.next = prior\n",
    "                prior = current\n",
    "                current = storage\n",
    "            storage = end_of_prev_slice.next\n",
    "            end_of_prev_slice.next = kth_position\n",
    "            end_of_prev_slice = storage\n",
    "        return dummy_node.next"
   ]
  },
  {
   "cell_type": "code",
   "execution_count": null,
   "id": "28fedce4",
   "metadata": {},
   "outputs": [],
   "source": [
    "# Code beyond this was written for the purposes of testing my solution. Needs to be modified to adjust for the fact that \n",
    "# self.container is now part of the constructor (a.k.a is now an instance attribute instead of a class attribute). Had to change\n",
    "# container to be an instance attribute as we don't want to keep reusing each instance's leftovers within self.container."
   ]
  },
  {
   "cell_type": "code",
   "execution_count": 302,
   "id": "7b3431b7",
   "metadata": {},
   "outputs": [],
   "source": [
    "class ListNode:\n",
    "    def __init__(self, val=0, next=None):\n",
    "        self.val = val\n",
    "        self.next = next"
   ]
  },
  {
   "cell_type": "code",
   "execution_count": 303,
   "id": "865d94b2",
   "metadata": {},
   "outputs": [],
   "source": [
    "linked_list1 = [1, 2, 3, 4, 5]"
   ]
  },
  {
   "cell_type": "code",
   "execution_count": 304,
   "id": "6c0502e5",
   "metadata": {},
   "outputs": [],
   "source": [
    "def create_linked_list(input_list):    \n",
    "    for i, y in enumerate(input_list):\n",
    "        if i!= 0:\n",
    "            a.next = ListNode(y)\n",
    "            a = a.next\n",
    "        else:\n",
    "            a = ListNode(y)\n",
    "            b = a\n",
    "    return b"
   ]
  },
  {
   "cell_type": "code",
   "execution_count": 305,
   "id": "c90ec5c2",
   "metadata": {},
   "outputs": [],
   "source": [
    "test_header = create_linked_list(linked_list1)"
   ]
  },
  {
   "cell_type": "code",
   "execution_count": 306,
   "id": "bfc343d6",
   "metadata": {},
   "outputs": [
    {
     "name": "stdout",
     "output_type": "stream",
     "text": [
      "2\n",
      "3\n",
      "4\n",
      "5\n"
     ]
    }
   ],
   "source": [
    "temp = test_header\n",
    "while temp.next:\n",
    "    temp = temp.next\n",
    "    print (temp.val)"
   ]
  },
  {
   "cell_type": "code",
   "execution_count": null,
   "id": "57d36d0a",
   "metadata": {},
   "outputs": [],
   "source": []
  },
  {
   "cell_type": "code",
   "execution_count": 307,
   "id": "a557610e",
   "metadata": {},
   "outputs": [
    {
     "name": "stdout",
     "output_type": "stream",
     "text": [
      "[[<__main__.ListNode object at 0x000001BECE17D4C0>, <__main__.ListNode object at 0x000001BECE17D640>, <__main__.ListNode object at 0x000001BECE17DD00>]]\n"
     ]
    }
   ],
   "source": [
    "test_node = Solution().reverseKGroup(test_header, 3)"
   ]
  },
  {
   "cell_type": "code",
   "execution_count": 308,
   "id": "0172fce6",
   "metadata": {},
   "outputs": [
    {
     "data": {
      "text/plain": [
       "3"
      ]
     },
     "execution_count": 308,
     "metadata": {},
     "output_type": "execute_result"
    }
   ],
   "source": [
    "test_node.val"
   ]
  },
  {
   "cell_type": "code",
   "execution_count": 309,
   "id": "6b72626f",
   "metadata": {},
   "outputs": [
    {
     "name": "stdout",
     "output_type": "stream",
     "text": [
      "3\n",
      "2\n",
      "1\n",
      "4\n",
      "5\n"
     ]
    }
   ],
   "source": [
    "print(test_node.val)\n",
    "while test_node.next:\n",
    "    test_node = test_node.next\n",
    "    print(test_node.val)"
   ]
  },
  {
   "cell_type": "code",
   "execution_count": null,
   "id": "e949b702",
   "metadata": {},
   "outputs": [],
   "source": []
  },
  {
   "cell_type": "code",
   "execution_count": null,
   "id": "612ff99b",
   "metadata": {},
   "outputs": [],
   "source": []
  }
 ],
 "metadata": {
  "kernelspec": {
   "display_name": "Python 3",
   "language": "python",
   "name": "python3"
  },
  "language_info": {
   "codemirror_mode": {
    "name": "ipython",
    "version": 3
   },
   "file_extension": ".py",
   "mimetype": "text/x-python",
   "name": "python",
   "nbconvert_exporter": "python",
   "pygments_lexer": "ipython3",
   "version": "3.8.8"
  }
 },
 "nbformat": 4,
 "nbformat_minor": 5
}
