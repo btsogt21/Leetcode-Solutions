{
 "cells": [
  {
   "cell_type": "markdown",
   "id": "07fc1c8d",
   "metadata": {},
   "source": [
    "## Description\n",
    "\n",
    "You are given an array prices where prices[i] is the price of a given stock on the ith day.\n",
    "\n",
    "You want to maximize your profit by choosing a single day to buy one stock and choosing a different day in the future to sell that stock.\n",
    "\n",
    "Return the maximum profit you can achieve from this transaction. If you cannot achieve any profit, return 0.\n",
    "\n",
    "\n",
    "## Example 1:\n",
    "\n",
    "Input: prices = [7,1,5,3,6,4]\n",
    "\n",
    "Output: 5\n",
    "\n",
    "Explanation: Buy on day 2 (price = 1) and sell on day 5 (price = 6), profit = 6-1 = 5.\n",
    "\n",
    "Note that buying on day 2 and selling on day 1 is not allowed because you must buy before you sell.\n",
    "\n",
    "## Example 2:\n",
    "\n",
    "Input: prices = [7,6,4,3,1]\n",
    "\n",
    "Output: 0\n",
    "\n",
    "Explanation: In this case, no transactions are done and the max profit = 0.\n",
    "\n",
    "\n",
    "## Constraints:\n",
    "\n",
    "1 <= prices.length <= 10<sup>5</sup>\n",
    "    \n",
    "0 <= prices[i] <= 10<sup>4</sup>"
   ]
  },
  {
   "cell_type": "code",
   "execution_count": 2,
   "id": "df6ccc06",
   "metadata": {},
   "outputs": [],
   "source": [
    "from __future__ import annotations #this was imported so that I could use built in types as generics. \n",
    "# Only >3.9 versions of python can use built in types as generics without this import."
   ]
  },
  {
   "cell_type": "code",
   "execution_count": 3,
   "id": "ea5743e4",
   "metadata": {},
   "outputs": [],
   "source": [
    "# First accepted solution. Fairly simple method, utilize left and right\n",
    "# pointers. Left pointer keeps track of day one should buy the stock, whereas\n",
    "# right pointer keeps track of day one should sell the stock. We set the left\n",
    "# pointer to position 0 at first, and we set the right pointer to position 1.\n",
    "# We increment the right pointer, checking each time if the price at the position\n",
    "# of the right pointer is less than the price at the position of the left pointer.\n",
    "# If so, we set the left pointer equal to the right pointer. Upon each iteration of\n",
    "# incrementation of the right pointer, we check if the difference in price\n",
    "# between the right and left pointers are greater than return_no, setting\n",
    "# return_no to that difference if so. Eventually, this will return the greatest\n",
    "# profit, or 0 if there is none to be made. \n",
    "\n",
    "class Solution:\n",
    "    def maxProfit(self, prices: List[int]) -> int:\n",
    "        l = 0\n",
    "        return_no = 0\n",
    "        for i in range(1, len(prices)):\n",
    "            if prices[l]>prices[i]:\n",
    "                l = i\n",
    "            return_no = max(return_no, prices[i]-prices[l])\n",
    "        return return_no"
   ]
  },
  {
   "cell_type": "code",
   "execution_count": null,
   "id": "f6bf9aaf",
   "metadata": {},
   "outputs": [],
   "source": []
  }
 ],
 "metadata": {
  "kernelspec": {
   "display_name": "Python 3 (ipykernel)",
   "language": "python",
   "name": "python3"
  },
  "language_info": {
   "codemirror_mode": {
    "name": "ipython",
    "version": 3
   },
   "file_extension": ".py",
   "mimetype": "text/x-python",
   "name": "python",
   "nbconvert_exporter": "python",
   "pygments_lexer": "ipython3",
   "version": "3.9.7"
  }
 },
 "nbformat": 4,
 "nbformat_minor": 5
}
