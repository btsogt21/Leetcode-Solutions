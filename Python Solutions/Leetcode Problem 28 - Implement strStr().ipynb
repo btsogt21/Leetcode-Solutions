{
 "cells": [
  {
   "cell_type": "markdown",
   "id": "66d5451f",
   "metadata": {},
   "source": [
    "## Description\n",
    "\n",
    "Implement strStr().\n",
    "\n",
    "Return the index of the first occurrence of needle in haystack, or -1 if needle is not part of haystack.\n",
    "\n",
    "Clarification:\n",
    "\n",
    "What should we return when needle is an empty string? This is a great question to ask during an interview.\n",
    "\n",
    "For the purpose of this problem, we will return 0 when needle is an empty string. This is consistent to C's strstr() and Java's indexOf().\n",
    "\n",
    "## Example 1:\n",
    "\n",
    "Input: haystack = \"hello\", needle = \"ll\"\n",
    "\n",
    "Output: 2\n",
    "\n",
    "## Example 2:\n",
    "\n",
    "Input: haystack = \"aaaaa\", needle = \"bba\"\n",
    "\n",
    "Output: -1\n",
    "\n",
    "## Example 3:\n",
    "\n",
    "Input: haystack = \"\", needle = \"\"\n",
    "\n",
    "Output: 0\n",
    "\n",
    "## Constraints:\n",
    "\n",
    "0 <= haystack.length, needle.length <= 5 * 104\n",
    "\n",
    "haystack and needle consist of only lower-case English characters."
   ]
  },
  {
   "cell_type": "code",
   "execution_count": 1,
   "id": "7c3cf1f2",
   "metadata": {},
   "outputs": [],
   "source": [
    "from __future__ import annotations #this was imported so that I could use built in types as generics. \n",
    "# Only >3.9 versions of python can use built in types as generics without this import."
   ]
  },
  {
   "cell_type": "code",
   "execution_count": 2,
   "id": "d3e1673e",
   "metadata": {},
   "outputs": [],
   "source": [
    "# First accepted solution. Fairly straightforward. Should be either O(n-k+1) (where n is the length of the haystack and k is the \n",
    "#length of the needle) or O(n*k) depending on whether 'haystack[i:i+len(needle)]' is constant time or not.\n",
    "\n",
    "class Solution:\n",
    "    def strStr(self, haystack: str, needle: str) -> int:\n",
    "        if haystack == needle:\n",
    "            return 0\n",
    "        if needle is None or haystack is None:\n",
    "            return -1\n",
    "        for i in range(len(haystack) - len(needle)+1):\n",
    "            if haystack[i:i+len(needle)] == needle:\n",
    "                return i\n",
    "        return -1"
   ]
  },
  {
   "cell_type": "code",
   "execution_count": null,
   "id": "203d9fab",
   "metadata": {},
   "outputs": [],
   "source": []
  }
 ],
 "metadata": {
  "kernelspec": {
   "display_name": "Python 3",
   "language": "python",
   "name": "python3"
  },
  "language_info": {
   "codemirror_mode": {
    "name": "ipython",
    "version": 3
   },
   "file_extension": ".py",
   "mimetype": "text/x-python",
   "name": "python",
   "nbconvert_exporter": "python",
   "pygments_lexer": "ipython3",
   "version": "3.8.8"
  }
 },
 "nbformat": 4,
 "nbformat_minor": 5
}
