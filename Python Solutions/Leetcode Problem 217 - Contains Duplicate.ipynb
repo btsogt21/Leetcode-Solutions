{
 "cells": [
  {
   "cell_type": "markdown",
   "id": "4bd50d41",
   "metadata": {},
   "source": [
    "## Description\n",
    "\n",
    "Given an integer array nums, return true if any value appears at least twice in the array, and return false if every element is distinct.\n",
    "\n",
    "\n",
    "## Example 1:\n",
    "\n",
    "Input: nums = [1,2,3,1]\n",
    "\n",
    "Output: true\n",
    "\n",
    "## Example 2:\n",
    "\n",
    "Input: nums = [1,2,3,4]\n",
    "\n",
    "Output: false\n",
    "\n",
    "## Constraints:\n",
    "\n",
    "1 <= nums.length <= 10^5\n",
    "\n",
    "-10^9 <= nums[i] <= 10^9"
   ]
  },
  {
   "cell_type": "code",
   "execution_count": 1,
   "id": "b1a8a944",
   "metadata": {},
   "outputs": [],
   "source": [
    "from __future__ import annotations #this was imported so that I could use built in types as generics. \n",
    "# Only >3.9 versions of python can use built in types as generics without this import."
   ]
  },
  {
   "cell_type": "code",
   "execution_count": 3,
   "id": "72a2ef02",
   "metadata": {},
   "outputs": [],
   "source": [
    "# This one was not particularly hard. Just a matter of looping through the\n",
    "# input list and making sure there were no duplicates. Two ways I did this\n",
    "\n",
    "# 1. Using a set()\n",
    "\n",
    "class Solution:\n",
    "    def containsDuplicate(self, nums: List[int]) -> bool:\n",
    "        set_unique = set()\n",
    "        for i in nums:\n",
    "            if i in set_unique:\n",
    "                return True\n",
    "            else:\n",
    "                set_unique.add(i)\n",
    "        return False"
   ]
  },
  {
   "cell_type": "code",
   "execution_count": 4,
   "id": "ac46b19e",
   "metadata": {},
   "outputs": [],
   "source": [
    "# 2. Using list sort()\n",
    "\n",
    "class Solution:\n",
    "    def containsDuplicate(self, nums: List[int]) -> bool:\n",
    "        nums.sort()\n",
    "        for i in range(len(nums)):\n",
    "            if i!=0 and nums[i] == nums[i-1]:\n",
    "                return True\n",
    "        return False"
   ]
  },
  {
   "cell_type": "code",
   "execution_count": null,
   "id": "b0b65ce2",
   "metadata": {},
   "outputs": [],
   "source": []
  }
 ],
 "metadata": {
  "kernelspec": {
   "display_name": "Python 3 (ipykernel)",
   "language": "python",
   "name": "python3"
  },
  "language_info": {
   "codemirror_mode": {
    "name": "ipython",
    "version": 3
   },
   "file_extension": ".py",
   "mimetype": "text/x-python",
   "name": "python",
   "nbconvert_exporter": "python",
   "pygments_lexer": "ipython3",
   "version": "3.9.7"
  }
 },
 "nbformat": 4,
 "nbformat_minor": 5
}
