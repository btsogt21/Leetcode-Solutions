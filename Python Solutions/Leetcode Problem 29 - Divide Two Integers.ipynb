{
 "cells": [
  {
   "cell_type": "markdown",
   "id": "8283655f",
   "metadata": {},
   "source": [
    "## Description\n",
    "\n",
    "Given two integers dividend and divisor, divide two integers without using multiplication, division, and mod operator.\n",
    "\n",
    "The integer division should truncate toward zero, which means losing its fractional part. For example, 8.345 would be truncated to 8, and -2.7335 would be truncated to -2.\n",
    "\n",
    "Return the quotient after dividing dividend by divisor.\n",
    "\n",
    "Note: Assume we are dealing with an environment that could only store integers within the 32-bit signed integer range: [−231, 231 − 1]. For this problem, if the quotient is strictly greater than 231 - 1, then return 231 - 1, and if the quotient is strictly less than -231, then return -231.\n",
    "\n",
    "## Example 1:\n",
    "\n",
    "Input: dividend = 10, divisor = 3\n",
    "\n",
    "Output: 3\n",
    "\n",
    "Explanation: 10/3 = 3.33333.. which is truncated to 3.\n",
    "\n",
    "## Example 2:\n",
    "\n",
    "Input: dividend = 7, divisor = -3\n",
    "\n",
    "Output: -2\n",
    "\n",
    "Explanation: 7/-3 = -2.33333.. which is truncated to -2.\n",
    "\n",
    "## Constraints:\n",
    "\n",
    "-231 <= dividend, divisor <= 231 - 1\n",
    "\n",
    "divisor != 0"
   ]
  },
  {
   "cell_type": "code",
   "execution_count": 2,
   "id": "415c8775",
   "metadata": {},
   "outputs": [],
   "source": [
    "from __future__ import annotations #this was imported so that I could use built in types as generics. \n",
    "# Only >3.9 versions of python can use built in types as generics without this import."
   ]
  },
  {
   "cell_type": "code",
   "execution_count": 3,
   "id": "6797a5d2",
   "metadata": {},
   "outputs": [],
   "source": [
    "# First accepted solution. Originally, I had built an O(n) solution (where n is the size of the integer) that essentially just\n",
    "# iterated divisor += divisor until it was greater than the dividend. However, the tester would not accept this solution's runtime.\n",
    "# After looking through some of my old notes from data structures, I figured I could make the while loop O(log(n)) by creating\n",
    "# another while loop inside of it. The nested while loop does not repeat itself over and over due to the fact that it essentially\n",
    "# causes the parent loop to finish all the more faster.\n",
    "\n",
    "class Solution:\n",
    "    def divide(self, dividend: int, divisor: int) -> int:\n",
    "        divid = abs(dividend)\n",
    "        divis = abs(divisor)\n",
    "        quotient = 0\n",
    "        while divid>=divis:\n",
    "            temp = divis\n",
    "            iterator = 1\n",
    "            while divid>=temp:\n",
    "                divid -=temp\n",
    "                quotient +=iterator\n",
    "                temp +=temp\n",
    "                iterator +=iterator\n",
    "        if (dividend<0 and divisor>0) or (divisor<0 and dividend>0):\n",
    "            quotient = -quotient\n",
    "        return max(-2**31, min(2**31-1, quotient))"
   ]
  },
  {
   "cell_type": "code",
   "execution_count": null,
   "id": "013aa6e9",
   "metadata": {},
   "outputs": [],
   "source": []
  }
 ],
 "metadata": {
  "kernelspec": {
   "display_name": "Python 3",
   "language": "python",
   "name": "python3"
  },
  "language_info": {
   "codemirror_mode": {
    "name": "ipython",
    "version": 3
   },
   "file_extension": ".py",
   "mimetype": "text/x-python",
   "name": "python",
   "nbconvert_exporter": "python",
   "pygments_lexer": "ipython3",
   "version": "3.8.8"
  }
 },
 "nbformat": 4,
 "nbformat_minor": 5
}
