{
 "cells": [
  {
   "cell_type": "markdown",
   "metadata": {},
   "source": [
    "## Description\n",
    "Given an array of integers nums and an integer target, return indices of the two numbers such that they add up to target.\n",
    "\n",
    "You may assume that each input would have exactly one solution, and you may not use the same element twice.\n",
    "\n",
    "You can return the answer in any order. "
   ]
  },
  {
   "cell_type": "markdown",
   "metadata": {},
   "source": [
    "## Example 1\n",
    "\n",
    "Input: nums = [2,7,11,15], target = 9\n",
    "\n",
    "Output: [0,1]\n",
    "\n",
    "Output: Because nums[0] + nums[1] == 9, we return [0, 1]."
   ]
  },
  {
   "cell_type": "markdown",
   "metadata": {},
   "source": [
    "## Example 2\n",
    "\n",
    "Input: nums = [3,2,4], target = 6\n",
    "\n",
    "Output: [1,2]"
   ]
  },
  {
   "cell_type": "markdown",
   "metadata": {},
   "source": [
    "## Example 3\n",
    "\n",
    "Input: nums = [3,3], target = 6\n",
    "\n",
    "Output: [0,1]"
   ]
  },
  {
   "cell_type": "markdown",
   "metadata": {},
   "source": [
    "## Constraints\n",
    "\n",
    "2 <= nums.length <= 104\n",
    "\n",
    "-109 <= nums[i] <= 109\n",
    "\n",
    "-109 <= target <= 109\n",
    "\n",
    "Only one valid answer needs to be returned for each array of integers and target number pair passed into the function"
   ]
  },
  {
   "cell_type": "markdown",
   "metadata": {},
   "source": [
    "## Solution"
   ]
  },
  {
   "cell_type": "code",
   "execution_count": 5,
   "metadata": {},
   "outputs": [],
   "source": [
    "# First Accepted Solution. This one was written without assistance.\n",
    "from __future__ import annotations #this was imported so that I could use the built-in 'list' type as a generic.B\n",
    "\n",
    "class Solution:\n",
    "    def twoSum(self, nums: List[int], target: int) -> List[int]:\n",
    "        return_list = [] #list with which to store values that will sum to the target. \n",
    "        for i in np.arange(len(nums)): #looping through the list containing the numbers we are to check.\n",
    "            remainder = target - nums[i] #finding the value to add to our current number to get the target\n",
    "            for y in np.arange(i+1, len(nums)): #looking for a number equal to the value we need to add to our original number in order to get the target.\n",
    "                if nums[y] == remainder:\n",
    "                    return_list.append(i)\n",
    "                    return_list.append(y)\n",
    "                    return return_list"
   ]
  },
  {
   "cell_type": "code",
   "execution_count": 6,
   "metadata": {},
   "outputs": [],
   "source": [
    "# Second Accepted Solution. This one was written after I had consulted the discussion session for more space and time efficient methods of achieving the same result. \n",
    "\n",
    "class Solution:\n",
    "    def twoSum(self, nums: List[int], target: int) -> List[int]:\n",
    "        dict_storage = {}\n",
    "        for i, y in enumerate(nums):\n",
    "            if target - y in ans:\n",
    "                return [i, dict_storage[target-y]]\n",
    "            digt_storage[y] = i\n",
    "    "
   ]
  },
  {
   "cell_type": "code",
   "execution_count": null,
   "metadata": {},
   "outputs": [],
   "source": []
  }
 ],
 "metadata": {
  "kernelspec": {
   "display_name": "Python 3",
   "language": "python",
   "name": "python3"
  },
  "language_info": {
   "codemirror_mode": {
    "name": "ipython",
    "version": 3
   },
   "file_extension": ".py",
   "mimetype": "text/x-python",
   "name": "python",
   "nbconvert_exporter": "python",
   "pygments_lexer": "ipython3",
   "version": "3.8.8"
  }
 },
 "nbformat": 4,
 "nbformat_minor": 4
}
