{
 "cells": [
  {
   "cell_type": "markdown",
   "id": "354fb3ec",
   "metadata": {},
   "source": [
    "## Description\n",
    "\n",
    "Given an integer x, return true if x is palindrome integer.\n",
    "\n",
    "An integer is a palindrome when it reads the same backward as forward.\n",
    "\n",
    "For example, 121 is a palindrome while 123 is not.\n",
    "\n",
    "## Example 1:\n",
    "\n",
    "Input: x = 121\n",
    "\n",
    "Output: true\n",
    "\n",
    "\n",
    "## Example 2:\n",
    "\n",
    "Input: x = -121\n",
    "\n",
    "Output: false\n",
    "\n",
    "Explanation: From left to right, it reads -121. From right to left, it becomes 121-. Therefore it is not a palindrome.\n",
    "\n",
    "## Example 3:\n",
    "\n",
    "Input: x = 10\n",
    "\n",
    "Output: false\n",
    "\n",
    "Explanation: Reads 01 from right to left. Therefore it is not a palindrome.\n",
    "\n",
    "## Example 4:\n",
    "\n",
    "Input: x = -101\n",
    "\n",
    "Output: false\n",
    "\n",
    "## Constraints:\n",
    "\n",
    "-231 <= x <= 231 - 1"
   ]
  },
  {
   "cell_type": "markdown",
   "id": "0893cff8",
   "metadata": {},
   "source": [
    "## Solution"
   ]
  },
  {
   "cell_type": "code",
   "execution_count": 1,
   "id": "79de6bb9",
   "metadata": {},
   "outputs": [],
   "source": [
    "from __future__ import annotations #this was imported so that I could use built in types as generics. \n",
    "# Only >3.9 versions of python can use built in types as generics without this import."
   ]
  },
  {
   "cell_type": "code",
   "execution_count": 1,
   "id": "ef4d5346",
   "metadata": {},
   "outputs": [],
   "source": [
    "# First accepted solution. This one was written without assistance.\n",
    "\n",
    "# I went about solving this problem by first considering how we could classify the input integer so as to ease the process of\n",
    "# identifying whether or not it is a palindrome. It was immediately apparent that the cases were essentially just odd and even\n",
    "# numbers. I figured that for the odd case, we would have to acquire the middle number, and then check each 'shell' outside this\n",
    "# center (where shells refer to subsequent pairs of numbers surrounding the center, where any given pair of numbers is equidistant\n",
    "# from the center, but in the opposite direction) for identical numbers. \n",
    "\n",
    "# For the even case, I use essentially the same logic, but slightly adjusted to account for the fact that even numbers will not\n",
    "# have a singular 'center' number (3223, 323, 22 is center for first, 2 is center for second), but rather a pair of numbers \n",
    "# that act as the 'center.' \n",
    "\n",
    "class Solution:\n",
    "    def isPalindrome(self, x: int) -> bool:\n",
    "        x_string = str(x)\n",
    "        if (len(x_string)%2)!=0:\n",
    "            middle = int((len(x_string)/2)+0.5)\n",
    "            for i in range(middle-1):\n",
    "                # corresponding_index = (middle*2)-2-i\n",
    "                if x_string[i]==x_string[(middle*2)-2-i]:\n",
    "                    continue\n",
    "                else:\n",
    "                    return False\n",
    "            return True\n",
    "        else:\n",
    "            if(len(x_string) == 0):\n",
    "                return True\n",
    "            else:\n",
    "                middle = int(len(x_string)/2)\n",
    "                for i in range(middle):\n",
    "                    if x_string[i]==x_string[(middle*2)-1-i]:\n",
    "                        continue\n",
    "                    else:\n",
    "                        return False\n",
    "                return True"
   ]
  },
  {
   "cell_type": "code",
   "execution_count": null,
   "id": "a0cbbcf3",
   "metadata": {},
   "outputs": [],
   "source": [
    "#"
   ]
  }
 ],
 "metadata": {
  "kernelspec": {
   "display_name": "Python 3",
   "language": "python",
   "name": "python3"
  },
  "language_info": {
   "codemirror_mode": {
    "name": "ipython",
    "version": 3
   },
   "file_extension": ".py",
   "mimetype": "text/x-python",
   "name": "python",
   "nbconvert_exporter": "python",
   "pygments_lexer": "ipython3",
   "version": "3.8.8"
  }
 },
 "nbformat": 4,
 "nbformat_minor": 5
}
