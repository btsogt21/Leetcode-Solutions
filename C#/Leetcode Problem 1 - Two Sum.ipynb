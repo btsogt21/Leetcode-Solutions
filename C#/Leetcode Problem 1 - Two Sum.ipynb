{
 "cells": [
  {
   "cell_type": "markdown",
   "id": "b076edb9",
   "metadata": {},
   "source": [
    "# 1. Two Sum"
   ]
  },
  {
   "cell_type": "markdown",
   "id": "0b7450d6",
   "metadata": {},
   "source": [
    "## Description\n",
    "\n",
    "Given an array of integers nums and an integer target, return indices of the two numbers such that they add up to target.\n",
    "\n",
    "You may assume that each input would have exactly one solution, and you may not use the same element twice.\n",
    "\n",
    "You can return the answer in any order.\n",
    "\n",
    "\n",
    "## Example 1:\n",
    "\n",
    "Input: nums = [2,7,11,15], target = 9\n",
    "Output: [0,1]\n",
    "Explanation: Because nums[0] + nums[1] == 9, we return [0, 1].\n",
    "\n",
    "## Example 2:\n",
    "\n",
    "Input: nums = [3,2,4], target = 6\n",
    "Output: [1,2]\n",
    "\n",
    "## Example 3\n",
    "\n",
    "Input: nums = [3,3], target = 6\n",
    "Output: [0,1]\n",
    "\n",
    "\n",
    "## Constraints:\n",
    "\n",
    "2 <= nums.length <= 10<sup>4</sup>\n",
    "-10<sup>9</sup> <= nums[i] <= 10<sup>9</sup>\n",
    "-10<sup>9</sup> <= target <= 10<sup>9</sup>\n",
    "Only one valid answer exists.\n",
    "\n",
    "1 <= s.length, t.length <= 5*10<sup>4</sup>\n",
    "    \n",
    "s and t consist of lowercase english letters"
   ]
  },
  {
   "cell_type": "code",
   "execution_count": 8,
   "id": "53fd1670",
   "metadata": {},
   "outputs": [],
   "source": [
    "// First accepted solution. Used a dictionary to keep track of numbers in the list as well as their indexes\n",
    "// so as to locate any numbers already in the dictionary that match the difference between the current number we\n",
    "// are examining and the target number.\n",
    "\n",
    "// Time complexity is O(n), or linear time. The operations inside the for loop are effectively O(1). The one concern\n",
    "// is perhaps .ContainsKey, which can have a time complexity of O(n) in the worst case. Since the keys are integers,\n",
    "// however, collisions are unlikely to occur.\n",
    "\n",
    "public class Solution {\n",
    "    public int[] TwoSum(int[] nums, int target) {\n",
    "        Dictionary<int, int> myDictionary = new Dictionary<int, int>();\n",
    "        for(int i = 0; i<nums.Length; i++){\n",
    "            int val_1 = target - nums[i];\n",
    "            if(myDictionary.ContainsKey(val_1)){\n",
    "                int[] myArray = new int[2];\n",
    "                myArray[0] = i;\n",
    "                myArray[1] = myDictionary[val_1];\n",
    "                return myArray;\n",
    "            }\n",
    "            if(!myDictionary.ContainsKey(nums[i])){\n",
    "                myDictionary.Add(nums[i], i);\n",
    "            }\n",
    "        }\n",
    "        return new int[0];\n",
    "    }\n",
    "}"
   ]
  },
  {
   "cell_type": "code",
   "execution_count": null,
   "id": "25457096",
   "metadata": {},
   "outputs": [],
   "source": []
  },
  {
   "cell_type": "code",
   "execution_count": null,
   "id": "2fe54429",
   "metadata": {},
   "outputs": [],
   "source": []
  }
 ],
 "metadata": {
  "kernelspec": {
   "display_name": ".NET (C#)",
   "language": "C#",
   "name": ".net-csharp"
  },
  "language_info": {
   "file_extension": ".cs",
   "mimetype": "text/x-csharp",
   "name": "C#",
   "pygments_lexer": "csharp",
   "version": "8.0"
  }
 },
 "nbformat": 4,
 "nbformat_minor": 5
}
