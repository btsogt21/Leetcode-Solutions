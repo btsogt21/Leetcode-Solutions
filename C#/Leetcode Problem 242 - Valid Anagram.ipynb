{
 "cells": [
  {
   "cell_type": "markdown",
   "id": "67eb40fd",
   "metadata": {},
   "source": [
    "# 242. Valid Anagram"
   ]
  },
  {
   "cell_type": "markdown",
   "id": "a1bbc183",
   "metadata": {},
   "source": [
    "## Description\n",
    "\n",
    "Given two strings s and t, return true if t is an anagram of s, and false otherwise.\n",
    "\n",
    "An Anagram is a word or phrase formed by rearranging the letters of a different word or phrase, typically using all the original letters exactly once.\n",
    "\n",
    "\n",
    "## Example 1:\n",
    "\n",
    "Input: s = \"anagram\", t = \"nagaram\"\n",
    "Output: true\n",
    "\n",
    "## Example 2:\n",
    "\n",
    "Input: s = \"rat\", t = \"car\"\n",
    "Output: false\n",
    "\n",
    "\n",
    "## Constraints:\n",
    "\n",
    "1 <= s.length, t.length <= 5*10<sup>4</sup>\n",
    "    \n",
    "s and t consist of lowercase english letters"
   ]
  },
  {
   "cell_type": "code",
   "execution_count": 6,
   "id": "8b7463d0",
   "metadata": {},
   "outputs": [],
   "source": [
    "// First accepted solution. I figured if the strings were similar when\n",
    "// rearranged, they'd be anagrams.\n",
    "// Time complexity of O(nlog(n)) average. .ToCharArray() and .SequenceEqual() are \n",
    "// both log(n), while .OrderBy() is nlog(n) on average. Thus the overall time complexity\n",
    "// is O(nlog(n)), where n is the length of the input strings 's' and 't' \n",
    "// combined. Worst case, however, would be O(n^2))\n",
    "public class Solution {\n",
    "    public bool IsAnagram(string s, string t) {\n",
    "        bool equal = s.ToCharArray().OrderBy(c => c).SequenceEqual(t.ToCharArray().OrderBy(c => c));\n",
    "        return equal;\n",
    "    }\n",
    "}"
   ]
  },
  {
   "cell_type": "code",
   "execution_count": 12,
   "id": "39c1c6f5",
   "metadata": {},
   "outputs": [],
   "source": [
    "// Second accepted solution. Figured I would try doing this with two dictionaries\n",
    "// keeping track of the letters and their # of occurrences in each respective string.\n",
    "// Then, after gathering the data for the dictionaries, we would compare the\n",
    "// two for parity.\n",
    "// Time complexity of O(n). The most complex things in this algorithm are the\n",
    "// two loops, both of which have O(n) complexity, where n is the length of the input strings.\n",
    "\n",
    "\n",
    "public class Solution {\n",
    "    public bool IsAnagram(string s, string t) {\n",
    "        if (s.Equals(t)){\n",
    "            return true;\n",
    "        }\n",
    "        if (s.Length != t.Length){\n",
    "            return false;\n",
    "        }\n",
    "        Dictionary<char, int> myDictionary1 = new Dictionary<char, int>();\n",
    "        Dictionary<char, int> myDictionary2 = new Dictionary<char, int>();\n",
    "        for (int i=0; i<s.Length; i++){\n",
    "            if (myDictionary1.ContainsKey(s[i])){\n",
    "                myDictionary1[s[i]]++;\n",
    "            }\n",
    "            else{\n",
    "                myDictionary1.Add(s[i], 1);\n",
    "            }\n",
    "            if (myDictionary2.ContainsKey(t[i])){\n",
    "                myDictionary2[t[i]]++;\n",
    "            }\n",
    "            else{\n",
    "                myDictionary2.Add(t[i],1);\n",
    "            }\n",
    "        }\n",
    "        foreach (var key in myDictionary1.Keys){\n",
    "            if (!myDictionary2.ContainsKey(key) || myDictionary1[key]!=myDictionary2[key]){\n",
    "                return false;\n",
    "            }\n",
    "        }\n",
    "        return true;\n",
    "    }\n",
    "}"
   ]
  },
  {
   "cell_type": "code",
   "execution_count": null,
   "id": "027830ab",
   "metadata": {},
   "outputs": [],
   "source": []
  }
 ],
 "metadata": {
  "kernelspec": {
   "display_name": ".NET (C#)",
   "language": "C#",
   "name": ".net-csharp"
  },
  "language_info": {
   "file_extension": ".cs",
   "mimetype": "text/x-csharp",
   "name": "C#",
   "pygments_lexer": "csharp",
   "version": "8.0"
  }
 },
 "nbformat": 4,
 "nbformat_minor": 5
}
